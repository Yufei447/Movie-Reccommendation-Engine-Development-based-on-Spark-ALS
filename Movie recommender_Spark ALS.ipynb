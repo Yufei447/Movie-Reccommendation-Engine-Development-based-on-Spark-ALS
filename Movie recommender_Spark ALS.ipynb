{
 "cells": [
  {
   "cell_type": "markdown",
   "metadata": {
    "application/vnd.databricks.v1+cell": {
     "cellMetadata": {
      "byteLimit": 2048000,
      "rowLimit": 10000
     },
     "inputWidgets": {},
     "nuid": "d0a9a804-099c-4ef9-8441-41caa8dc2eb7",
     "showTitle": false,
     "title": ""
    }
   },
   "source": [
    "Data could be found at: https://grouplens.org/datasets/movielens/latest/"
   ]
  },
  {
   "cell_type": "markdown",
   "metadata": {
    "application/vnd.databricks.v1+cell": {
     "cellMetadata": {
      "byteLimit": 2048000,
      "rowLimit": 10000
     },
     "inputWidgets": {},
     "nuid": "a7334219-59f8-4b2c-b708-34a0ae5c3bf3",
     "showTitle": false,
     "title": ""
    }
   },
   "source": [
    "## Part 1: Data ETL"
   ]
  },
  {
   "cell_type": "code",
   "execution_count": 0,
   "metadata": {
    "application/vnd.databricks.v1+cell": {
     "cellMetadata": {
      "byteLimit": 2048000,
      "rowLimit": 10000
     },
     "inputWidgets": {},
     "nuid": "c493ddb4-b56e-4d35-8990-604be2108dfe",
     "showTitle": true,
     "title": "Import packages"
    }
   },
   "outputs": [],
   "source": [
    "from pyspark.sql.functions import udf\n",
    "from pyspark.sql.types import ArrayType,StringType, IntegerType, FloatType\n",
    "import numpy as np\n",
    "import pandas as pd\n",
    "import seaborn as sns\n",
    "import matplotlib.pyplot as plt\n",
    "import math\n",
    "from pyspark.ml.evaluation import RegressionEvaluator\n",
    "from pyspark.ml.recommendation import ALS\n",
    "from pyspark.ml.tuning import CrossValidator,ParamGridBuilder\n",
    "from pyspark.sql.types import StructType, StructField\n",
    "import re\n"
   ]
  },
  {
   "cell_type": "code",
   "execution_count": 0,
   "metadata": {
    "application/vnd.databricks.v1+cell": {
     "cellMetadata": {
      "byteLimit": 2048000,
      "rowLimit": 10000
     },
     "inputWidgets": {},
     "nuid": "77eab852-b52b-467c-bf14-5b2b01a5f101",
     "showTitle": false,
     "title": ""
    }
   },
   "outputs": [
    {
     "output_type": "display_data",
     "data": {
      "text/html": [
       "\n",
       "            <div>\n",
       "                <p><b>SparkSession - hive</b></p>\n",
       "                \n",
       "        <div>\n",
       "            <p><b>SparkContext</b></p>\n",
       "\n",
       "            <p><a href=\"/?o=3693819312739709#setting/sparkui/1103-183401-o5yzwucg/driver-4805448947318647232\">Spark UI</a></p>\n",
       "\n",
       "            <dl>\n",
       "              <dt>Version</dt>\n",
       "                <dd><code>v3.3.2</code></dd>\n",
       "              <dt>Master</dt>\n",
       "                <dd><code>local[8]</code></dd>\n",
       "              <dt>AppName</dt>\n",
       "                <dd><code>Databricks Shell</code></dd>\n",
       "            </dl>\n",
       "        </div>\n",
       "        \n",
       "            </div>\n",
       "        "
      ]
     },
     "metadata": {
      "application/vnd.databricks.v1+output": {
       "addedWidgets": {},
       "arguments": {},
       "data": "\n            <div>\n                <p><b>SparkSession - hive</b></p>\n                \n        <div>\n            <p><b>SparkContext</b></p>\n\n            <p><a href=\"/?o=3693819312739709#setting/sparkui/1103-183401-o5yzwucg/driver-4805448947318647232\">Spark UI</a></p>\n\n            <dl>\n              <dt>Version</dt>\n                <dd><code>v3.3.2</code></dd>\n              <dt>Master</dt>\n                <dd><code>local[8]</code></dd>\n              <dt>AppName</dt>\n                <dd><code>Databricks Shell</code></dd>\n            </dl>\n        </div>\n        \n            </div>\n        ",
       "datasetInfos": [],
       "metadata": {},
       "removedWidgets": [],
       "textData": null,
       "type": "htmlSandbox"
      }
     },
     "output_type": "display_data"
    }
   ],
   "source": [
    "spark"
   ]
  },
  {
   "cell_type": "code",
   "execution_count": 0,
   "metadata": {
    "application/vnd.databricks.v1+cell": {
     "cellMetadata": {
      "byteLimit": 2048000,
      "rowLimit": 10000
     },
     "inputWidgets": {},
     "nuid": "2ec8a643-e352-4721-a43b-a6c59703ad79",
     "showTitle": false,
     "title": ""
    }
   },
   "outputs": [
    {
     "output_type": "stream",
     "name": "stdout",
     "output_type": "stream",
     "text": [
      "For the users that rated movies and the movies that were rated:\nMinimum number of ratings per user is 20\nMinimum number of ratings per movie is 1\n"
     ]
    }
   ],
   "source": [
    "movies_df = spark.read.load(\"/FileStore/tables/movies.csv\", format='csv', header = True)\n",
    "ratings_df = spark.read.load(\"/FileStore/tables/ratings.csv\", format='csv', header = True)\n",
    "links_df = spark.read.load(\"/FileStore/tables/links.csv\", format='csv', header = True)\n",
    "tags_df = spark.read.load(\"/FileStore/tables/tags.csv\", format='csv', header = True)\n",
    "tmp1 = ratings_df.groupBy(\"userID\").count().toPandas()['count'].min()\n",
    "tmp2 = ratings_df.groupBy(\"movieId\").count().toPandas()['count'].min()\n",
    "print('For the users that rated movies and the movies that were rated:')\n",
    "print('Minimum number of ratings per user is {}'.format(tmp1))\n",
    "print('Minimum number of ratings per movie is {}'.format(tmp2))"
   ]
  },
  {
   "cell_type": "code",
   "execution_count": 0,
   "metadata": {
    "application/vnd.databricks.v1+cell": {
     "cellMetadata": {
      "byteLimit": 2048000,
      "rowLimit": 10000
     },
     "inputWidgets": {},
     "nuid": "8dcd7e7e-8d19-428e-ba49-6388a61bc127",
     "showTitle": false,
     "title": ""
    }
   },
   "outputs": [
    {
     "output_type": "stream",
     "name": "stdout",
     "output_type": "stream",
     "text": [
      "+-------+--------------------+--------------------+\n|movieId|               title|              genres|\n+-------+--------------------+--------------------+\n|      1|    Toy Story (1995)|Adventure|Animati...|\n|      2|      Jumanji (1995)|Adventure|Childre...|\n|      3|Grumpier Old Men ...|      Comedy|Romance|\n|      4|Waiting to Exhale...|Comedy|Drama|Romance|\n|      5|Father of the Bri...|              Comedy|\n+-------+--------------------+--------------------+\nonly showing top 5 rows\n\n"
     ]
    }
   ],
   "source": [
    "movies_df.show(5)"
   ]
  },
  {
   "cell_type": "code",
   "execution_count": 0,
   "metadata": {
    "application/vnd.databricks.v1+cell": {
     "cellMetadata": {
      "byteLimit": 2048000,
      "rowLimit": 10000
     },
     "inputWidgets": {},
     "nuid": "a63ae85e-578d-4c71-88ee-660984071381",
     "showTitle": false,
     "title": ""
    }
   },
   "outputs": [
    {
     "output_type": "stream",
     "name": "stdout",
     "output_type": "stream",
     "text": [
      "+------+-------+------+---------+\n|userId|movieId|rating|timestamp|\n+------+-------+------+---------+\n|     1|      1|   4.0|964982703|\n|     1|      3|   4.0|964981247|\n|     1|      6|   4.0|964982224|\n|     1|     47|   5.0|964983815|\n|     1|     50|   5.0|964982931|\n+------+-------+------+---------+\nonly showing top 5 rows\n\n"
     ]
    }
   ],
   "source": [
    "ratings_df.show(5)"
   ]
  },
  {
   "cell_type": "code",
   "execution_count": 0,
   "metadata": {
    "application/vnd.databricks.v1+cell": {
     "cellMetadata": {
      "byteLimit": 2048000,
      "rowLimit": 10000
     },
     "inputWidgets": {},
     "nuid": "99069266-022b-4934-86d6-6208a9647966",
     "showTitle": false,
     "title": ""
    }
   },
   "outputs": [
    {
     "output_type": "stream",
     "name": "stdout",
     "output_type": "stream",
     "text": [
      "+-------+-------+------+\n|movieId| imdbId|tmdbId|\n+-------+-------+------+\n|      1|0114709|   862|\n|      2|0113497|  8844|\n|      3|0113228| 15602|\n|      4|0114885| 31357|\n|      5|0113041| 11862|\n+-------+-------+------+\nonly showing top 5 rows\n\n"
     ]
    }
   ],
   "source": [
    "links_df.show(5)"
   ]
  },
  {
   "cell_type": "code",
   "execution_count": 0,
   "metadata": {
    "application/vnd.databricks.v1+cell": {
     "cellMetadata": {
      "byteLimit": 2048000,
      "rowLimit": 10000
     },
     "inputWidgets": {},
     "nuid": "5fca159f-0da8-4db7-9001-a3c4552bcb91",
     "showTitle": false,
     "title": ""
    }
   },
   "outputs": [
    {
     "output_type": "stream",
     "name": "stdout",
     "output_type": "stream",
     "text": [
      "+------+-------+---------------+----------+\n|userId|movieId|            tag| timestamp|\n+------+-------+---------------+----------+\n|     2|  60756|          funny|1445714994|\n|     2|  60756|Highly quotable|1445714996|\n|     2|  60756|   will ferrell|1445714992|\n|     2|  89774|   Boxing story|1445715207|\n|     2|  89774|            MMA|1445715200|\n+------+-------+---------------+----------+\nonly showing top 5 rows\n\n"
     ]
    }
   ],
   "source": [
    "tags_df.show(5)"
   ]
  },
  {
   "cell_type": "code",
   "execution_count": 0,
   "metadata": {
    "application/vnd.databricks.v1+cell": {
     "cellMetadata": {
      "byteLimit": 2048000,
      "rowLimit": 10000
     },
     "inputWidgets": {},
     "nuid": "4b6de005-fa9a-4638-86db-9cd2f76cca12",
     "showTitle": false,
     "title": ""
    }
   },
   "outputs": [
    {
     "output_type": "stream",
     "name": "stdout",
     "output_type": "stream",
     "text": [
      "For the users that rated movies and the movies that were rated:\nMinimum number of ratings per user is 20\nMinimum number of ratings per movie is 1\n"
     ]
    }
   ],
   "source": [
    "tmp1 = ratings_df.groupBy(\"userID\").count().toPandas()['count'].min()\n",
    "tmp2 = ratings_df.groupBy(\"movieId\").count().toPandas()['count'].min()\n",
    "print('For the users that rated movies and the movies that were rated:')\n",
    "print('Minimum number of ratings per user is {}'.format(tmp1))\n",
    "print('Minimum number of ratings per movie is {}'.format(tmp2))"
   ]
  },
  {
   "cell_type": "code",
   "execution_count": 0,
   "metadata": {
    "application/vnd.databricks.v1+cell": {
     "cellMetadata": {
      "byteLimit": 2048000,
      "rowLimit": 10000
     },
     "inputWidgets": {},
     "nuid": "3dfe8001-d265-46e0-9486-a142510c3412",
     "showTitle": false,
     "title": ""
    }
   },
   "outputs": [
    {
     "output_type": "stream",
     "name": "stdout",
     "output_type": "stream",
     "text": [
      "3446 out of 9724 movies are rated by only one user\n"
     ]
    }
   ],
   "source": [
    "tmp1 = sum(ratings_df.groupBy(\"movieId\").count().toPandas()['count'] == 1)\n",
    "tmp2 = ratings_df.select('movieId').distinct().count()\n",
    "print('{} out of {} movies are rated by only one user'.format(tmp1, tmp2))"
   ]
  },
  {
   "cell_type": "markdown",
   "metadata": {
    "application/vnd.databricks.v1+cell": {
     "cellMetadata": {
      "byteLimit": 2048000,
      "rowLimit": 10000
     },
     "inputWidgets": {},
     "nuid": "ccab1d8e-b1f3-4576-ae99-e5ae5522ffd0",
     "showTitle": false,
     "title": ""
    }
   },
   "source": [
    "## Part 2: OLAP"
   ]
  },
  {
   "cell_type": "code",
   "execution_count": 0,
   "metadata": {
    "application/vnd.databricks.v1+cell": {
     "cellMetadata": {
      "byteLimit": 2048000,
      "rowLimit": 10000
     },
     "inputWidgets": {},
     "nuid": "8872b158-d41b-4eae-aecb-8386833c1440",
     "showTitle": false,
     "title": ""
    }
   },
   "outputs": [
    {
     "output_type": "stream",
     "name": "stderr",
     "output_type": "stream",
     "text": [
      "/databricks/spark/python/pyspark/sql/dataframe.py:331: FutureWarning: Deprecated in 2.0, use createOrReplaceTempView instead.\n  warnings.warn(\"Deprecated in 2.0, use createOrReplaceTempView instead.\", FutureWarning)\n"
     ]
    }
   ],
   "source": [
    "movies_df.registerTempTable(\"movies\")\n",
    "ratings_df.registerTempTable(\"ratings\")\n",
    "links_df.registerTempTable(\"links\")\n",
    "tags_df.registerTempTable(\"tags\")"
   ]
  },
  {
   "cell_type": "code",
   "execution_count": 0,
   "metadata": {
    "application/vnd.databricks.v1+cell": {
     "cellMetadata": {
      "byteLimit": 2048000,
      "rowLimit": 10000
     },
     "inputWidgets": {},
     "nuid": "5e99deb1-d80b-4f17-bcc8-a39cadc8805d",
     "showTitle": true,
     "title": "Number of users"
    }
   },
   "outputs": [
    {
     "output_type": "stream",
     "name": "stdout",
     "output_type": "stream",
     "text": [
      "+---------------+\n|Number_of_Users|\n+---------------+\n|            610|\n+---------------+\n\n"
     ]
    }
   ],
   "source": [
    "Num_users = spark.sql(\"Select Count(Distinct userId) as Number_of_Users from ratings\")\n",
    "Num_users.show()"
   ]
  },
  {
   "cell_type": "code",
   "execution_count": 0,
   "metadata": {
    "application/vnd.databricks.v1+cell": {
     "cellMetadata": {
      "byteLimit": 2048000,
      "rowLimit": 10000
     },
     "inputWidgets": {},
     "nuid": "9d06ec1a-99d5-449d-a058-14b2756366ac",
     "showTitle": true,
     "title": "Number of movies"
    }
   },
   "outputs": [
    {
     "output_type": "stream",
     "name": "stdout",
     "output_type": "stream",
     "text": [
      "+----------------+\n|Number_of_Moives|\n+----------------+\n|            9742|\n+----------------+\n\n"
     ]
    }
   ],
   "source": [
    "Num_mv = spark.sql(\"Select Count(movieId) as Number_of_Moives from movies\")\n",
    "Num_mv.show()"
   ]
  },
  {
   "cell_type": "code",
   "execution_count": 0,
   "metadata": {
    "application/vnd.databricks.v1+cell": {
     "cellMetadata": {
      "byteLimit": 2048000,
      "rowLimit": 10000
     },
     "inputWidgets": {},
     "nuid": "48da8414-9957-4589-97f4-9d71b7a09e4a",
     "showTitle": true,
     "title": "Number of ratings"
    }
   },
   "outputs": [
    {
     "output_type": "stream",
     "name": "stdout",
     "output_type": "stream",
     "text": [
      "+-----------------+\n|Number_of_Ratings|\n+-----------------+\n|           100836|\n+-----------------+\n\n"
     ]
    }
   ],
   "source": [
    "Num_rt = spark.sql(\"Select Count(*) as Number_of_Ratings from ratings\")\n",
    "Num_rt.show()"
   ]
  },
  {
   "cell_type": "code",
   "execution_count": 0,
   "metadata": {
    "application/vnd.databricks.v1+cell": {
     "cellMetadata": {
      "byteLimit": 2048000,
      "rowLimit": 10000
     },
     "inputWidgets": {},
     "nuid": "2bd0637c-4dc8-44ac-b7d6-5928f7e66652",
     "showTitle": true,
     "title": "Ratings distribution"
    }
   },
   "outputs": [
    {
     "output_type": "stream",
     "name": "stdout",
     "output_type": "stream",
     "text": [
      "Out[103]: <AxesSubplot:xlabel='rating', ylabel='count'>"
     ]
    },
    {
     "output_type": "display_data",
     "data": {
      "image/png": "[encoded data removed]"
     },
     "metadata": {
      "application/vnd.databricks.v1+output": {
       "addedWidgets": {},
       "arguments": {},
       "data": "data:image/png;base64,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\n",
       "datasetInfos": [],
       "metadata": {},
       "removedWidgets": [],
       "type": "image"
      }
     },
     "output_type": "display_data"
    }
   ],
   "source": [
    "ratings_dis = spark.sql(\"Select rating, Count(*) as count from ratings group by 1 order by 1\").toPandas()\n",
    "sns.barplot(x=\"rating\", y=\"count\", data=ratings_dis)"
   ]
  },
  {
   "cell_type": "code",
   "execution_count": 0,
   "metadata": {
    "application/vnd.databricks.v1+cell": {
     "cellMetadata": {
      "byteLimit": 2048000,
      "rowLimit": 10000
     },
     "inputWidgets": {},
     "nuid": "068c212b-8762-436d-8850-184b3a2ba40b",
     "showTitle": true,
     "title": "How many movies are rated by users? List movies not rated before"
    }
   },
   "outputs": [
    {
     "output_type": "stream",
     "name": "stdout",
     "output_type": "stream",
     "text": [
      "+----------------------+\n|Number_of_Rated_Moives|\n+----------------------+\n|                  9724|\n+----------------------+\n\n"
     ]
    }
   ],
   "source": [
    "Num_rated_mv = spark.sql(\"Select Count(movieId) as Number_of_Rated_Moives From movies Where movieID in (Select movieId From ratings)\")\n",
    "Num_rated_mv.show()"
   ]
  },
  {
   "cell_type": "code",
   "execution_count": 0,
   "metadata": {
    "application/vnd.databricks.v1+cell": {
     "cellMetadata": {
      "byteLimit": 2048000,
      "rowLimit": 10000
     },
     "inputWidgets": {},
     "nuid": "583cb945-4dee-408a-b9bd-8092e925c7df",
     "showTitle": false,
     "title": ""
    }
   },
   "outputs": [
    {
     "output_type": "stream",
     "name": "stdout",
     "output_type": "stream",
     "text": [
      "Movies that have not been rated by users:\n+-------+--------------------+--------------------+\n|movieId|               title|              genres|\n+-------+--------------------+--------------------+\n|   1076|Innocents, The (1...|Drama|Horror|Thri...|\n|   2939|      Niagara (1953)|      Drama|Thriller|\n|   3338|For All Mankind (...|         Documentary|\n|   3456|Color of Paradise...|               Drama|\n|   4194|I Know Where I'm ...|   Drama|Romance|War|\n|   5721|  Chosen, The (1981)|               Drama|\n|   6668|Road Home, The (W...|       Drama|Romance|\n|   6849|      Scrooge (1970)|Drama|Fantasy|Mus...|\n|   7020|        Proof (1991)|Comedy|Drama|Romance|\n|   7792|Parallax View, Th...|            Thriller|\n|   8765|This Gun for Hire...|Crime|Film-Noir|T...|\n|  25855|Roaring Twenties,...|Crime|Drama|Thriller|\n|  26085|Mutiny on the Bou...|Adventure|Drama|R...|\n|  30892|In the Realms of ...|Animation|Documen...|\n|  32160|Twentieth Century...|              Comedy|\n|  32371|Call Northside 77...|Crime|Drama|Film-...|\n|  34482|Browning Version,...|               Drama|\n|  85565|  Chalet Girl (2011)|      Comedy|Romance|\n+-------+--------------------+--------------------+\n\n"
     ]
    }
   ],
   "source": [
    "unrated_list=spark.sql('SELECT * ' +\\\n",
    "                       'FROM movies ' +\\\n",
    "                       'WHERE movieId NOT IN ( ' +\\\n",
    "                        'SELECT movieId ' +\\\n",
    "                        'FROM ratings ' +\\\n",
    "                       ') ')\n",
    "print('Movies that have not been rated by users:')\n",
    "unrated_list.show()"
   ]
  },
  {
   "cell_type": "code",
   "execution_count": 0,
   "metadata": {
    "application/vnd.databricks.v1+cell": {
     "cellMetadata": {
      "byteLimit": 2048000,
      "rowLimit": 10000
     },
     "inputWidgets": {},
     "nuid": "32988a47-20e9-42ba-9228-cc7f011ccf13",
     "showTitle": true,
     "title": "Movie genres"
    }
   },
   "outputs": [
    {
     "output_type": "stream",
     "name": "stdout",
     "output_type": "stream",
     "text": [
      "+--------------------+\n|              genres|\n+--------------------+\n|Adventure|Animati...|\n|Adventure|Childre...|\n|      Comedy|Romance|\n|Comedy|Drama|Romance|\n|              Comedy|\n|Action|Crime|Thri...|\n|      Comedy|Romance|\n|  Adventure|Children|\n|              Action|\n|Action|Adventure|...|\n|Comedy|Drama|Romance|\n|       Comedy|Horror|\n|Adventure|Animati...|\n|               Drama|\n|Action|Adventure|...|\n|         Crime|Drama|\n|       Drama|Romance|\n|              Comedy|\n|              Comedy|\n|Action|Comedy|Cri...|\n+--------------------+\nonly showing top 20 rows\n\n"
     ]
    }
   ],
   "source": [
    "genres_list = spark.sql('select genres from movies')\n",
    "genres_list.show()"
   ]
  },
  {
   "cell_type": "code",
   "execution_count": 0,
   "metadata": {
    "application/vnd.databricks.v1+cell": {
     "cellMetadata": {
      "byteLimit": 2048000,
      "rowLimit": 10000
     },
     "inputWidgets": {},
     "nuid": "3e9c6c57-7c06-4b97-bbc6-6eaa3ca857ce",
     "showTitle": false,
     "title": ""
    }
   },
   "outputs": [
    {
     "output_type": "stream",
     "name": "stdout",
     "output_type": "stream",
     "text": [
      "+------------------+\n|       genres_list|\n+------------------+\n|(no genres listed)|\n|            Action|\n|         Adventure|\n|         Animation|\n|          Children|\n|            Comedy|\n|             Crime|\n|       Documentary|\n|             Drama|\n|           Fantasy|\n|         Film-Noir|\n|            Horror|\n|              IMAX|\n|           Musical|\n|           Mystery|\n|           Romance|\n|            Sci-Fi|\n|          Thriller|\n|               War|\n|           Western|\n+------------------+\n\n"
     ]
    }
   ],
   "source": [
    "# Seperate different genres by udf\n",
    "genre_sep = udf(lambda x: x.split('|'), ArrayType(StringType()))\n",
    "spark.udf.register('genre_sep',genre_sep)\n",
    "spark.sql('SELECT DISTINCT genres_list ' +\\\n",
    "          'FROM movies  ' +\\\n",
    "          'LATERAL VIEW EXPLODE(genre_sep(genres)) AS genres_list ' +\\\n",
    "          'ORDER BY 1').show()"
   ]
  },
  {
   "cell_type": "code",
   "execution_count": 0,
   "metadata": {
    "application/vnd.databricks.v1+cell": {
     "cellMetadata": {
      "byteLimit": 2048000,
      "rowLimit": 10000
     },
     "inputWidgets": {},
     "nuid": "5b59865d-f840-4a4b-80be-7153a8dd30eb",
     "showTitle": false,
     "title": ""
    }
   },
   "outputs": [
    {
     "output_type": "stream",
     "name": "stdout",
     "output_type": "stream",
     "text": [
      "+------------------+\n|            genres|\n+------------------+\n|(no genres listed)|\n|            Action|\n|         Adventure|\n|         Animation|\n|          Children|\n|            Comedy|\n|             Crime|\n|       Documentary|\n|             Drama|\n|           Fantasy|\n|         Film-Noir|\n|            Horror|\n|              IMAX|\n|           Musical|\n|           Mystery|\n|           Romance|\n|            Sci-Fi|\n|          Thriller|\n|               War|\n|           Western|\n+------------------+\n\n"
     ]
    }
   ],
   "source": [
    "genre_method2 = spark.sql(\"Select Distinct explode(split(genres,'[|]')) as genres From movies Order by 1\")\n",
    "genre_method2.show()"
   ]
  },
  {
   "cell_type": "code",
   "execution_count": 0,
   "metadata": {
    "application/vnd.databricks.v1+cell": {
     "cellMetadata": {
      "byteLimit": 2048000,
      "rowLimit": 10000
     },
     "inputWidgets": {},
     "nuid": "b508d895-cc62-4ffb-8705-8f2cfe00ecae",
     "showTitle": true,
     "title": "Number of movies for each Category"
    }
   },
   "outputs": [
    {
     "output_type": "stream",
     "name": "stdout",
     "output_type": "stream",
     "text": [
      "+------------------+----------------+\n|            genres|Number_of_Moives|\n+------------------+----------------+\n|             Drama|            4361|\n|            Comedy|            3756|\n|          Thriller|            1894|\n|            Action|            1828|\n|           Romance|            1596|\n|         Adventure|            1263|\n|             Crime|            1199|\n|            Sci-Fi|             980|\n|            Horror|             978|\n|           Fantasy|             779|\n|          Children|             664|\n|         Animation|             611|\n|           Mystery|             573|\n|       Documentary|             440|\n|               War|             382|\n|           Musical|             334|\n|           Western|             167|\n|              IMAX|             158|\n|         Film-Noir|              87|\n|(no genres listed)|              34|\n+------------------+----------------+\n\n"
     ]
    }
   ],
   "source": [
    "Num_mv_cat = spark.sql(\"Select genres,Count(movieId) as Number_of_Moives From(Select explode(split(genres,'[|]')) as Genres, movieId From movies) Group By 1 Order by 2 DESC\")\n",
    "Num_mv_cat.show()"
   ]
  },
  {
   "cell_type": "code",
   "execution_count": 0,
   "metadata": {
    "application/vnd.databricks.v1+cell": {
     "cellMetadata": {
      "byteLimit": 2048000,
      "rowLimit": 10000
     },
     "inputWidgets": {},
     "nuid": "bb6f9d7a-fa55-4ce6-8696-09e901a72456",
     "showTitle": false,
     "title": ""
    }
   },
   "outputs": [
    {
     "output_type": "stream",
     "name": "stdout",
     "output_type": "stream",
     "text": [
      "+------------------+--------------------+\n|            genres|      List_of_movies|\n+------------------+--------------------+\n|             Crime|Stealing Rembrand...|\n|           Romance|Vampire in Brookl...|\n|          Thriller|Element of Crime,...|\n|         Adventure|Ice Age: Collisio...|\n|             Drama|Airport '77 (1977...|\n|               War|General, The (192...|\n|       Documentary|The Barkley Marat...|\n|           Fantasy|Masters of the Un...|\n|           Mystery|Before and After ...|\n|           Musical|U2: Rattle and Hu...|\n|         Animation|Ice Age: Collisio...|\n|         Film-Noir|Rififi (Du rififi...|\n|(no genres listed)|T2 3-D: Battle Ac...|\n|              IMAX|Harry Potter and ...|\n|            Horror|Underworld: Rise ...|\n|           Western|Man Who Shot Libe...|\n|            Comedy|Hysteria (2011),H...|\n|          Children|Ice Age: Collisio...|\n|            Action|Stealing Rembrand...|\n|            Sci-Fi|Push (2009),SORI:...|\n+------------------+--------------------+\n\n"
     ]
    }
   ],
   "source": [
    "# List all movie for each category\n",
    "List_mv_vat = spark.sql(\"Select genres, concat_ws(',',collect_set(title)) as List_of_movies From(Select explode(split(genres,'[|]')) as genres, title From movies) Group By 1\")\n",
    "List_mv_vat.show()"
   ]
  },
  {
   "cell_type": "code",
   "execution_count": 0,
   "metadata": {
    "application/vnd.databricks.v1+cell": {
     "cellMetadata": {
      "byteLimit": 2048000,
      "rowLimit": 10000
     },
     "inputWidgets": {},
     "nuid": "95401b05-1e4d-42e0-9188-2151e2fc96c5",
     "showTitle": true,
     "title": "Movie years"
    }
   },
   "outputs": [],
   "source": [
    "# define a UDF to extract the release year from the title, and return the new title and year in a struct type\n",
    "def extract_year_fuc(title):\n",
    "    result = re.search(\"\\(\\d{4}\\)\", title)\n",
    "    try:\n",
    "        if result:\n",
    "            group = result.group()\n",
    "            year = group[1:-1]\n",
    "            start_pos = result.start()\n",
    "            title = title[:start_pos-1]\n",
    "            return (title, year)\n",
    "        else:\n",
    "            return (title, 1970)\n",
    "    except:\n",
    "        print(title)\n",
    "\n",
    "extract_year = udf(extract_year_fuc,\\\n",
    "                   StructType([StructField(\"title\", StringType(), True),\\\n",
    "                               StructField(\"release_date\", StringType(), True)]))"
   ]
  },
  {
   "cell_type": "code",
   "execution_count": 0,
   "metadata": {
    "application/vnd.databricks.v1+cell": {
     "cellMetadata": {
      "byteLimit": 2048000,
      "rowLimit": 10000
     },
     "inputWidgets": {},
     "nuid": "8746a688-dbf5-4fdf-9da7-3cb1db88e9f8",
     "showTitle": false,
     "title": ""
    }
   },
   "outputs": [
    {
     "output_type": "stream",
     "name": "stdout",
     "output_type": "stream",
     "text": [
      "Out[115]: ('Toy Story', '1995')"
     ]
    }
   ],
   "source": [
    "extract_year_fuc('Toy Story (1995)')"
   ]
  },
  {
   "cell_type": "code",
   "execution_count": 0,
   "metadata": {
    "application/vnd.databricks.v1+cell": {
     "cellMetadata": {
      "byteLimit": 2048000,
      "rowLimit": 10000
     },
     "inputWidgets": {},
     "nuid": "ae28ee16-3440-47b7-a4d2-4ea245652c9a",
     "showTitle": false,
     "title": ""
    }
   },
   "outputs": [
    {
     "output_type": "stream",
     "name": "stdout",
     "output_type": "stream",
     "text": [
      "+-------+--------------------+--------------------+\n|movieId|               title|              genres|\n+-------+--------------------+--------------------+\n|      1|    Toy Story (1995)|Adventure|Animati...|\n|      2|      Jumanji (1995)|Adventure|Childre...|\n|      3|Grumpier Old Men ...|      Comedy|Romance|\n|      4|Waiting to Exhale...|Comedy|Drama|Romance|\n|      5|Father of the Bri...|              Comedy|\n|      6|         Heat (1995)|Action|Crime|Thri...|\n|      7|      Sabrina (1995)|      Comedy|Romance|\n|      8| Tom and Huck (1995)|  Adventure|Children|\n|      9| Sudden Death (1995)|              Action|\n|     10|    GoldenEye (1995)|Action|Adventure|...|\n|     11|American Presiden...|Comedy|Drama|Romance|\n|     12|Dracula: Dead and...|       Comedy|Horror|\n|     13|        Balto (1995)|Adventure|Animati...|\n|     14|        Nixon (1995)|               Drama|\n|     15|Cutthroat Island ...|Action|Adventure|...|\n|     16|       Casino (1995)|         Crime|Drama|\n|     17|Sense and Sensibi...|       Drama|Romance|\n|     18|   Four Rooms (1995)|              Comedy|\n|     19|Ace Ventura: When...|              Comedy|\n|     20|  Money Train (1995)|Action|Comedy|Cri...|\n+-------+--------------------+--------------------+\nonly showing top 20 rows\n\n"
     ]
    }
   ],
   "source": [
    "movies_df.show()"
   ]
  },
  {
   "cell_type": "code",
   "execution_count": 0,
   "metadata": {
    "application/vnd.databricks.v1+cell": {
     "cellMetadata": {
      "byteLimit": 2048000,
      "rowLimit": 10000
     },
     "inputWidgets": {},
     "nuid": "7ff0081e-506d-4fcf-9bcf-baf93851304e",
     "showTitle": false,
     "title": ""
    }
   },
   "outputs": [
    {
     "output_type": "stream",
     "name": "stdout",
     "output_type": "stream",
     "text": [
      "+-------+--------------------+------------+--------------------+\n|movieId|               title|release_date|               genre|\n+-------+--------------------+------------+--------------------+\n|      1|           Toy Story|        1995|[Adventure, Anima...|\n|      2|             Jumanji|        1995|[Adventure, Child...|\n|      3|    Grumpier Old Men|        1995|   [Comedy, Romance]|\n|      4|   Waiting to Exhale|        1995|[Comedy, Drama, R...|\n|      5|Father of the Bri...|        1995|            [Comedy]|\n|      6|                Heat|        1995|[Action, Crime, T...|\n|      7|             Sabrina|        1995|   [Comedy, Romance]|\n|      8|        Tom and Huck|        1995|[Adventure, Child...|\n|      9|        Sudden Death|        1995|            [Action]|\n|     10|           GoldenEye|        1995|[Action, Adventur...|\n|     11|American Presiden...|        1995|[Comedy, Drama, R...|\n|     12|Dracula: Dead and...|        1995|    [Comedy, Horror]|\n|     13|               Balto|        1995|[Adventure, Anima...|\n|     14|               Nixon|        1995|             [Drama]|\n|     15|    Cutthroat Island|        1995|[Action, Adventur...|\n|     16|              Casino|        1995|      [Crime, Drama]|\n|     17|Sense and Sensibi...|        1995|    [Drama, Romance]|\n|     18|          Four Rooms|        1995|            [Comedy]|\n|     19|Ace Ventura: When...|        1995|            [Comedy]|\n|     20|         Money Train|        1995|[Action, Comedy, ...|\n+-------+--------------------+------------+--------------------+\nonly showing top 20 rows\n\n"
     ]
    }
   ],
   "source": [
    "movies_df = movies_df.select(\n",
    "    \"movieId\", extract_year(\"title\").title.alias(\"title\"),\\\n",
    "    extract_year(\"title\").release_date.alias(\"release_date\"),\\\n",
    "    genre_sep(\"genres\").alias(\"genre\"))\n",
    "movies_df.show()   "
   ]
  },
  {
   "cell_type": "code",
   "execution_count": 0,
   "metadata": {
    "application/vnd.databricks.v1+cell": {
     "cellMetadata": {
      "byteLimit": 2048000,
      "rowLimit": 10000
     },
     "inputWidgets": {},
     "nuid": "0897c8a4-ef3d-4744-98e6-c70d908c864d",
     "showTitle": false,
     "title": ""
    }
   },
   "outputs": [
    {
     "output_type": "stream",
     "name": "stdout",
     "output_type": "stream",
     "text": [
      "Out[131]: DataFrame[movieId: string, title: string, release_date: string, genre: array<string>]"
     ]
    }
   ],
   "source": [
    "movies_df.cache()"
   ]
  },
  {
   "cell_type": "markdown",
   "metadata": {
    "application/vnd.databricks.v1+cell": {
     "cellMetadata": {
      "byteLimit": 2048000,
      "rowLimit": 10000
     },
     "inputWidgets": {},
     "nuid": "ddb67046-6acc-4748-8eac-dca71b01b8dd",
     "showTitle": false,
     "title": ""
    }
   },
   "source": [
    "## Part 3: Spark ALS based collaborative filtering"
   ]
  },
  {
   "cell_type": "markdown",
   "metadata": {
    "application/vnd.databricks.v1+cell": {
     "cellMetadata": {
      "byteLimit": 2048000,
      "rowLimit": 10000
     },
     "inputWidgets": {},
     "nuid": "56a1ee8d-957b-4de2-bd59-73af41d3f857",
     "showTitle": false,
     "title": ""
    }
   },
   "source": [
    "### (a) Data preprocessing & exploration"
   ]
  },
  {
   "cell_type": "code",
   "execution_count": 0,
   "metadata": {
    "application/vnd.databricks.v1+cell": {
     "cellMetadata": {
      "byteLimit": 2048000,
      "rowLimit": 10000
     },
     "inputWidgets": {},
     "nuid": "7b3c034c-693d-4def-8a45-8d083671f186",
     "showTitle": false,
     "title": ""
    }
   },
   "outputs": [
    {
     "output_type": "stream",
     "name": "stdout",
     "output_type": "stream",
     "text": [
      "+------+-------+------+---------+\n|userId|movieId|rating|timestamp|\n+------+-------+------+---------+\n|     1|      1|   4.0|964982703|\n|     1|      3|   4.0|964981247|\n|     1|      6|   4.0|964982224|\n|     1|     47|   5.0|964983815|\n|     1|     50|   5.0|964982931|\n|     1|     70|   3.0|964982400|\n|     1|    101|   5.0|964980868|\n|     1|    110|   4.0|964982176|\n|     1|    151|   5.0|964984041|\n|     1|    157|   5.0|964984100|\n|     1|    163|   5.0|964983650|\n|     1|    216|   5.0|964981208|\n|     1|    223|   3.0|964980985|\n|     1|    231|   5.0|964981179|\n|     1|    235|   4.0|964980908|\n|     1|    260|   5.0|964981680|\n|     1|    296|   3.0|964982967|\n|     1|    316|   3.0|964982310|\n|     1|    333|   5.0|964981179|\n|     1|    349|   4.0|964982563|\n+------+-------+------+---------+\nonly showing top 20 rows\n\n"
     ]
    }
   ],
   "source": [
    "ratings_df.show()"
   ]
  },
  {
   "cell_type": "code",
   "execution_count": 0,
   "metadata": {
    "application/vnd.databricks.v1+cell": {
     "cellMetadata": {
      "byteLimit": 2048000,
      "rowLimit": 10000
     },
     "inputWidgets": {},
     "nuid": "29d7b4e9-4e58-4031-9590-42caf63dbe48",
     "showTitle": false,
     "title": ""
    }
   },
   "outputs": [],
   "source": [
    "movie_ratings = ratings_df.drop('timestamp')"
   ]
  },
  {
   "cell_type": "code",
   "execution_count": 0,
   "metadata": {
    "application/vnd.databricks.v1+cell": {
     "cellMetadata": {
      "byteLimit": 2048000,
      "rowLimit": 10000
     },
     "inputWidgets": {},
     "nuid": "da647a64-6397-4293-832b-b96db8274923",
     "showTitle": false,
     "title": ""
    }
   },
   "outputs": [],
   "source": [
    "movie_ratings = movie_ratings.withColumn(\"userId\", movie_ratings[\"userId\"].cast(IntegerType()))\n",
    "movie_ratings = movie_ratings.withColumn(\"movieId\", movie_ratings[\"movieId\"].cast(IntegerType()))\n",
    "movie_ratings = movie_ratings.withColumn(\"rating\", movie_ratings[\"rating\"].cast(FloatType()))"
   ]
  },
  {
   "cell_type": "code",
   "execution_count": 0,
   "metadata": {
    "application/vnd.databricks.v1+cell": {
     "cellMetadata": {
      "byteLimit": 2048000,
      "rowLimit": 10000
     },
     "inputWidgets": {},
     "nuid": "babe2f15-021c-439f-815a-080149509e6a",
     "showTitle": false,
     "title": ""
    }
   },
   "outputs": [
    {
     "output_type": "stream",
     "name": "stdout",
     "output_type": "stream",
     "text": [
      "+------+-------+------+\n|userId|movieId|rating|\n+------+-------+------+\n|     1|      1|   4.0|\n|     1|      3|   4.0|\n|     1|      6|   4.0|\n|     1|     47|   5.0|\n|     1|     50|   5.0|\n|     1|     70|   3.0|\n|     1|    101|   5.0|\n|     1|    110|   4.0|\n|     1|    151|   5.0|\n|     1|    157|   5.0|\n|     1|    163|   5.0|\n|     1|    216|   5.0|\n|     1|    223|   3.0|\n|     1|    231|   5.0|\n|     1|    235|   4.0|\n|     1|    260|   5.0|\n|     1|    296|   3.0|\n|     1|    316|   3.0|\n|     1|    333|   5.0|\n|     1|    349|   4.0|\n+------+-------+------+\nonly showing top 20 rows\n\n"
     ]
    }
   ],
   "source": [
    "movie_ratings.show()"
   ]
  },
  {
   "cell_type": "code",
   "execution_count": 0,
   "metadata": {
    "application/vnd.databricks.v1+cell": {
     "cellMetadata": {
      "byteLimit": 2048000,
      "rowLimit": 10000
     },
     "inputWidgets": {},
     "nuid": "e2acabdd-ea78-4d47-a9fe-bd1fcbfd7659",
     "showTitle": false,
     "title": ""
    }
   },
   "outputs": [],
   "source": [
    "# bar chart of ratings\n",
    "rating_count=movie_ratings.select('rating').groupBy('rating').count().toPandas()\n",
    "plt.figure(figsize=[12,6])\n",
    "plt.bar(x='rating',height='count',data=rating_count,width=0.5)\n",
    "plt.title('Ratings Distribution')\n",
    "plt.xticks(np.arange(0.5,5.5,0.5))\n",
    "plt.show()"
   ]
  },
  {
   "cell_type": "markdown",
   "metadata": {
    "application/vnd.databricks.v1+cell": {
     "cellMetadata": {
      "byteLimit": 2048000,
      "rowLimit": 10000
     },
     "inputWidgets": {},
     "nuid": "98da99d8-401c-4206-9f1d-4c977c0f1f8a",
     "showTitle": false,
     "title": ""
    }
   },
   "source": [
    "### (b) ALS model selection & evaluation\n",
    "* https://spark.apache.org/docs/2.2.0/ml-collaborative-filtering.html"
   ]
  },
  {
   "cell_type": "code",
   "execution_count": 0,
   "metadata": {
    "application/vnd.databricks.v1+cell": {
     "cellMetadata": {
      "byteLimit": 2048000,
      "rowLimit": 10000
     },
     "inputWidgets": {},
     "nuid": "06301eb6-0892-45d4-8f34-48a8e61b6377",
     "showTitle": false,
     "title": ""
    }
   },
   "outputs": [],
   "source": [
    "# Train/test split\n",
    "(training, test) = movie_ratings.randomSplit([0.8,0.2])"
   ]
  },
  {
   "cell_type": "code",
   "execution_count": 0,
   "metadata": {
    "application/vnd.databricks.v1+cell": {
     "cellMetadata": {
      "byteLimit": 2048000,
      "rowLimit": 10000
     },
     "inputWidgets": {},
     "nuid": "190f5cec-fdcc-4b85-a285-3f35fae82f63",
     "showTitle": false,
     "title": ""
    }
   },
   "outputs": [],
   "source": [
    "# Model selection using grid search\n",
    "model_als = ALS(maxIter=5, rank=10, regParam=0.01, userCol=\"userId\", itemCol=\"movieId\", ratingCol=\"rating\",\n",
    "          coldStartStrategy=\"drop\", seed=6)\n",
    "\n",
    "params = ParamGridBuilder()\\\n",
    "            .addGrid(model_als.maxIter, [5, 10])\\\n",
    "            .addGrid(model_als.regParam, [0.1, 0.01])\\\n",
    "            .addGrid(model_als.rank, [5, 10, 15])\\\n",
    "            .addGrid(model_als.alpha, [0.1, 0.01])\\\n",
    "            .build()\n",
    "\n",
    "evaluator = RegressionEvaluator(metricName=\"rmse\", labelCol=\"rating\",\n",
    "                                predictionCol=\"prediction\")\n",
    "\n",
    "\n",
    "cv = CrossValidator(estimator=model_als, estimatorParamMaps=params, evaluator=evaluator, numFolds=5, seed=6)"
   ]
  },
  {
   "cell_type": "code",
   "execution_count": 0,
   "metadata": {
    "application/vnd.databricks.v1+cell": {
     "cellMetadata": {
      "byteLimit": 2048000,
      "rowLimit": 10000
     },
     "inputWidgets": {},
     "nuid": "97bdb9eb-684e-4acb-b6b1-c39fee0dbce6",
     "showTitle": false,
     "title": ""
    }
   },
   "outputs": [],
   "source": [
    "# Extract the best model selected by cv\n",
    "cvModel = cv.fit(training)\n",
    "bestModel = cvModel.bestModel"
   ]
  },
  {
   "cell_type": "code",
   "execution_count": 0,
   "metadata": {
    "application/vnd.databricks.v1+cell": {
     "cellMetadata": {
      "byteLimit": 2048000,
      "rowLimit": 10000
     },
     "inputWidgets": {},
     "nuid": "b5480dd2-ff9a-4926-84d1-45bef56d5360",
     "showTitle": false,
     "title": ""
    }
   },
   "outputs": [
    {
     "output_type": "stream",
     "name": "stdout",
     "output_type": "stream",
     "text": [
      "Best ALS model parameters selected by CV:\n\tmaxIter: 10\n\tregParam: 0.1\n\trank: 5\n\talpha: 0.1\n"
     ]
    }
   ],
   "source": [
    "# Check the best parameters\n",
    "best_params = cvModel.getEstimatorParamMaps()[np.argmin(cvModel.avgMetrics)]\n",
    "print('Best ALS model parameters selected by CV:')\n",
    "for i,j in best_params.items():\n",
    "  print('\\t'+i.name+': '+str(j))"
   ]
  },
  {
   "cell_type": "code",
   "execution_count": 0,
   "metadata": {
    "application/vnd.databricks.v1+cell": {
     "cellMetadata": {
      "byteLimit": 2048000,
      "rowLimit": 10000
     },
     "inputWidgets": {},
     "nuid": "092c5432-de5c-4c3e-86af-a31e8645831c",
     "showTitle": false,
     "title": ""
    }
   },
   "outputs": [
    {
     "output_type": "stream",
     "name": "stdout",
     "output_type": "stream",
     "text": [
      "Parameters of the best model: \n{Param(parent='ALS_528faf07615f', name='maxIter', doc='max number of iterations (>= 0).'): 10, Param(parent='ALS_528faf07615f', name='regParam', doc='regularization parameter (>= 0).'): 0.1, Param(parent='ALS_528faf07615f', name='rank', doc='rank of the factorization'): 5, Param(parent='ALS_528faf07615f', name='alpha', doc='alpha for implicit preference'): 0.1}\n------------------------------------------------------------\ncross validation RMSE of the best model: 0.9035812122036668\n"
     ]
    }
   ],
   "source": [
    "print(\"Parameters of the best model: \\n{}\".format(cv.getEstimatorParamMaps()[np.argmin(cvModel.avgMetrics)]))\n",
    "print(\"--\"*30)\n",
    "print(\"cross validation RMSE of the best model: {}\".format(min(cvModel.avgMetrics)))"
   ]
  },
  {
   "cell_type": "code",
   "execution_count": 0,
   "metadata": {
    "application/vnd.databricks.v1+cell": {
     "cellMetadata": {
      "byteLimit": 2048000,
      "rowLimit": 10000
     },
     "inputWidgets": {},
     "nuid": "900c047b-8a3b-4915-b130-9b87ee1772b5",
     "showTitle": false,
     "title": ""
    }
   },
   "outputs": [
    {
     "output_type": "stream",
     "name": "stdout",
     "output_type": "stream",
     "text": [
      "Root-mean-square-error for the test set is 0.8833995284780438\n"
     ]
    }
   ],
   "source": [
    "prediction_test = bestModel.transform(test)\n",
    "rmse_test = evaluator.evaluate(prediction_test)\n",
    "print(f\"Root-mean-square-error for the test set is {str(rmse_test)}\")"
   ]
  },
  {
   "cell_type": "code",
   "execution_count": 0,
   "metadata": {
    "application/vnd.databricks.v1+cell": {
     "cellMetadata": {
      "byteLimit": 2048000,
      "rowLimit": 10000
     },
     "inputWidgets": {},
     "nuid": "17d466d3-03fe-48ec-ad0e-e80312f8a1e1",
     "showTitle": false,
     "title": ""
    }
   },
   "outputs": [
    {
     "output_type": "stream",
     "name": "stdout",
     "output_type": "stream",
     "text": [
      "+------+-------+------+----------+\n|userId|movieId|rating|prediction|\n+------+-------+------+----------+\n|   148|   5952|   3.0| 3.6947272|\n|   148|   8368|   4.0| 3.6832125|\n|   148|  79091|   3.5| 3.5003276|\n|   148|  98491|   5.0|  4.086987|\n|   148| 122882|   4.0|  3.137414|\n|   148| 160718|   4.5| 3.6028845|\n|   463|    780|   3.5| 3.6352146|\n|   463|   1690|   4.0| 2.9500058|\n|   463|   2006|   3.0| 3.3134952|\n|   463|   5952|   5.0| 3.6385198|\n|   463|   7153|   5.0| 3.7803903|\n|   463|   7320|   4.0| 2.9869013|\n|   471|   6539|   3.5| 3.4977865|\n|   471|   8360|   2.0| 3.3733878|\n|   471|   8961|   3.5| 3.7506113|\n|   471|  44191|   3.5| 3.7197592|\n|   471|  92259|   4.5| 3.5894954|\n|   496|    720|   1.0| 3.9147382|\n|   496|    858|   5.0|  4.393898|\n|   496|   1221|   4.0| 4.3077474|\n+------+-------+------+----------+\nonly showing top 20 rows\n\n"
     ]
    }
   ],
   "source": [
    "prediction_test.show()"
   ]
  },
  {
   "cell_type": "code",
   "execution_count": 0,
   "metadata": {
    "application/vnd.databricks.v1+cell": {
     "cellMetadata": {
      "byteLimit": 2048000,
      "rowLimit": 10000
     },
     "inputWidgets": {},
     "nuid": "0187971a-4240-4ac3-88a0-d7b25bd9fd65",
     "showTitle": false,
     "title": ""
    }
   },
   "outputs": [
    {
     "output_type": "stream",
     "name": "stdout",
     "output_type": "stream",
     "text": [
      "Root-mean-square-error for all the data is 0.6921280490649094\n"
     ]
    }
   ],
   "source": [
    "prediction_all = bestModel.transform(movie_ratings)\n",
    "rmse = evaluator.evaluate(prediction_all)\n",
    "print (f\"Root-mean-square-error for all the data is {str(rmse)}\")"
   ]
  },
  {
   "cell_type": "code",
   "execution_count": 0,
   "metadata": {
    "application/vnd.databricks.v1+cell": {
     "cellMetadata": {
      "byteLimit": 2048000,
      "rowLimit": 10000
     },
     "inputWidgets": {},
     "nuid": "72ab0028-3c5b-48a0-ac27-658d49695fe4",
     "showTitle": false,
     "title": ""
    }
   },
   "outputs": [
    {
     "output_type": "stream",
     "name": "stderr",
     "output_type": "stream",
     "text": [
      "/databricks/spark/python/pyspark/sql/dataframe.py:331: FutureWarning: Deprecated in 2.0, use createOrReplaceTempView instead.\n  warnings.warn(\"Deprecated in 2.0, use createOrReplaceTempView instead.\", FutureWarning)\n"
     ]
    }
   ],
   "source": [
    "prediction_all.registerTempTable(\"data\")"
   ]
  },
  {
   "cell_type": "code",
   "execution_count": 0,
   "metadata": {
    "application/vnd.databricks.v1+cell": {
     "cellMetadata": {
      "byteLimit": 2048000,
      "rowLimit": 10000
     },
     "inputWidgets": {},
     "nuid": "805effe5-37c3-49de-9989-3c2af79aa1ea",
     "showTitle": false,
     "title": ""
    }
   },
   "outputs": [
    {
     "output_type": "stream",
     "name": "stdout",
     "output_type": "stream",
     "text": [
      "+------+-------+------+----------+\n|userId|movieId|rating|prediction|\n+------+-------+------+----------+\n|   148|    356|   4.0|  3.947101|\n|   148|   1197|   3.0| 3.8252788|\n|   148|   4308|   4.0|  3.441807|\n|   148|   4886|   3.0| 3.6199255|\n|   148|   4896|   4.0| 3.5809398|\n|   148|   4993|   3.0|  3.880931|\n|   148|   5618|   3.0| 3.5481765|\n|   148|   5816|   4.0| 3.6330159|\n|   148|   5952|   3.0| 3.6947272|\n|   148|   6377|   3.0| 3.7998745|\n|   148|   7153|   3.0|   3.69832|\n|   148|   8368|   4.0| 3.6832125|\n|   148|  30816|   5.0|  3.559083|\n|   148|  31658|   4.0| 3.5989702|\n|   148|  40629|   5.0| 3.7231808|\n|   148|  40815|   4.0| 3.6587312|\n|   148|  44191|   4.0|  3.397871|\n|   148|  50872|   3.0|  3.442868|\n|   148|  54001|   4.0| 3.7553232|\n|   148|  60069|   4.5|  3.575072|\n+------+-------+------+----------+\nonly showing top 20 rows\n\n"
     ]
    }
   ],
   "source": [
    "spark.sql(\"select * from data\").show()"
   ]
  },
  {
   "cell_type": "code",
   "execution_count": 0,
   "metadata": {
    "application/vnd.databricks.v1+cell": {
     "cellMetadata": {
      "byteLimit": 2048000,
      "rowLimit": 10000
     },
     "inputWidgets": {},
     "nuid": "7a50dc3b-a322-44af-a2b8-ebaab80f633d",
     "showTitle": false,
     "title": ""
    }
   },
   "outputs": [
    {
     "output_type": "stream",
     "name": "stdout",
     "output_type": "stream",
     "text": [
      "+-------+--------------------+--------------------+------+-------+------+----------+\n|movieId|               title|              genres|userId|movieId|rating|prediction|\n+-------+--------------------+--------------------+------+-------+------+----------+\n|    356| Forrest Gump (1994)|Comedy|Drama|Roma...|   148|    356|   4.0|  3.947101|\n|   1197|Princess Bride, T...|Action|Adventure|...|   148|   1197|   3.0| 3.8252788|\n|   4308| Moulin Rouge (2001)|Drama|Musical|Rom...|   148|   4308|   4.0|  3.441807|\n|   4886|Monsters, Inc. (2...|Adventure|Animati...|   148|   4886|   3.0| 3.6199255|\n|   4896|Harry Potter and ...|Adventure|Childre...|   148|   4896|   4.0| 3.5809398|\n|   4993|Lord of the Rings...|   Adventure|Fantasy|   148|   4993|   3.0|  3.880931|\n|   5618|Spirited Away (Se...|Adventure|Animati...|   148|   5618|   3.0| 3.5481765|\n|   5816|Harry Potter and ...|   Adventure|Fantasy|   148|   5816|   4.0| 3.6330159|\n|   5952|Lord of the Rings...|   Adventure|Fantasy|   148|   5952|   3.0| 3.6947272|\n|   6377| Finding Nemo (2003)|Adventure|Animati...|   148|   6377|   3.0| 3.7998745|\n|   7153|Lord of the Rings...|Action|Adventure|...|   148|   7153|   3.0|   3.69832|\n|   8368|Harry Potter and ...|Adventure|Fantasy...|   148|   8368|   4.0| 3.6832125|\n|  30816|Phantom of the Op...|Drama|Musical|Rom...|   148|  30816|   5.0|  3.559083|\n|  31658|Howl's Moving Cas...|Adventure|Animati...|   148|  31658|   4.0| 3.5989702|\n|  40629|Pride & Prejudice...|       Drama|Romance|   148|  40629|   5.0| 3.7231808|\n|  40815|Harry Potter and ...|Adventure|Fantasy...|   148|  40815|   4.0| 3.6587312|\n|  44191|V for Vendetta (2...|Action|Sci-Fi|Thr...|   148|  44191|   4.0|  3.397871|\n|  50872|  Ratatouille (2007)|Animation|Childre...|   148|  50872|   3.0|  3.442868|\n|  54001|Harry Potter and ...|Adventure|Drama|F...|   148|  54001|   4.0| 3.7553232|\n|  60069|       WALL·E (2008)|Adventure|Animati...|   148|  60069|   4.5|  3.575072|\n+-------+--------------------+--------------------+------+-------+------+----------+\nonly showing top 20 rows\n\n"
     ]
    }
   ],
   "source": [
    "# Concatenate predictions of ratings to movies\n",
    "spark.sql('SELECT * ' +\\\n",
    "          'FROM movies ' +\\\n",
    "\t          'JOIN data ON movies.movieId = data.movieId').show()"
   ]
  },
  {
   "cell_type": "markdown",
   "metadata": {
    "application/vnd.databricks.v1+cell": {
     "cellMetadata": {},
     "inputWidgets": {},
     "nuid": "3bbcd999-b5da-4904-acb9-c4732eb1a051",
     "showTitle": false,
     "title": ""
    }
   },
   "source": [
    "## Part 4: Recommendation for users"
   ]
  },
  {
   "cell_type": "markdown",
   "metadata": {
    "application/vnd.databricks.v1+cell": {
     "cellMetadata": {},
     "inputWidgets": {},
     "nuid": "bb6f3044-495d-4caf-8fe3-e68b4b56269d",
     "showTitle": false,
     "title": ""
    }
   },
   "source": [
    "### (a) Recommend top k movies for a given user"
   ]
  },
  {
   "cell_type": "code",
   "execution_count": 0,
   "metadata": {
    "application/vnd.databricks.v1+cell": {
     "cellMetadata": {
      "byteLimit": 2048000,
      "rowLimit": 10000
     },
     "inputWidgets": {},
     "nuid": "30fcc78f-58c9-4926-afb7-2eec294919df",
     "showTitle": false,
     "title": ""
    }
   },
   "outputs": [],
   "source": [
    "def topKRecommend(k, uid, model):\n",
    "    '''\n",
    "    k: the number of movies to recommend\n",
    "    uid: the id of the user to give recommendations\n",
    "    model: the trained model for recommendation\n",
    "    '''\n",
    "    # make rating predictions on all movies for that user\n",
    "    all_recommd = model.recommendForAllUsers(k) \n",
    "    user_recommd = all_recommd.where(all_recommd.userId == uid).toPandas()\n",
    "\n",
    "    # output top k movie recommendations for that user based on the movie rating predictions\n",
    "    if user_recommd.shape[0] == 0:\n",
    "        print('No user with id '+str(id)+' is found in the data.')\n",
    "        return None\n",
    "\n",
    "    user_recommd = user_recommd.iloc[0, 1]\n",
    "    # print(user_recommd)\n",
    "    user_recommd = pd.json_normalize(user_recommd)\n",
    "    # print(user_recommd) \n",
    "    \n",
    "    # generate recommendated movie info for output\n",
    "    temp = None \n",
    "    for i in user_recommd['movieId']:\n",
    "        if not temp:\n",
    "            temp = movies_df.where(movies_df.movieId == str(i))\n",
    "        else:\n",
    "            temp = temp.union(movies_df.where(movies_df.movieId == str(i)))\n",
    "\n",
    "    out = pd.concat([temp.toPandas(), user_recommd['rating']],axis=1)\n",
    "    out.index = range(1, k+1)\n",
    "    return out"
   ]
  },
  {
   "cell_type": "code",
   "execution_count": 0,
   "metadata": {
    "application/vnd.databricks.v1+cell": {
     "cellMetadata": {
      "byteLimit": 2048000,
      "rowLimit": 10000
     },
     "inputWidgets": {},
     "nuid": "f92d05b0-4f67-4f95-b299-1d5d6da87ac1",
     "showTitle": false,
     "title": ""
    }
   },
   "outputs": [
    {
     "output_type": "display_data",
     "data": {
      "text/html": [
       "<div>\n",
       "<style scoped>\n",
       "    .dataframe tbody tr th:only-of-type {\n",
       "        vertical-align: middle;\n",
       "    }\n",
       "\n",
       "    .dataframe tbody tr th {\n",
       "        vertical-align: top;\n",
       "    }\n",
       "\n",
       "    .dataframe thead th {\n",
       "        text-align: right;\n",
       "    }\n",
       "</style>\n",
       "<table border=\"1\" class=\"dataframe\">\n",
       "  <thead>\n",
       "    <tr style=\"text-align: right;\">\n",
       "      <th></th>\n",
       "      <th>movieId</th>\n",
       "      <th>title</th>\n",
       "      <th>genres</th>\n",
       "      <th>rating</th>\n",
       "    </tr>\n",
       "  </thead>\n",
       "  <tbody>\n",
       "    <tr>\n",
       "      <th>1</th>\n",
       "      <td>177593</td>\n",
       "      <td>Three Billboards Outside Ebbing, Missouri (2017)</td>\n",
       "      <td>Crime|Drama</td>\n",
       "      <td>5.604426</td>\n",
       "    </tr>\n",
       "    <tr>\n",
       "      <th>2</th>\n",
       "      <td>6201</td>\n",
       "      <td>Lady Jane (1986)</td>\n",
       "      <td>Drama|Romance</td>\n",
       "      <td>5.566172</td>\n",
       "    </tr>\n",
       "    <tr>\n",
       "      <th>3</th>\n",
       "      <td>4495</td>\n",
       "      <td>Crossing Delancey (1988)</td>\n",
       "      <td>Comedy|Romance</td>\n",
       "      <td>5.566172</td>\n",
       "    </tr>\n",
       "    <tr>\n",
       "      <th>4</th>\n",
       "      <td>2295</td>\n",
       "      <td>Impostors, The (1998)</td>\n",
       "      <td>Comedy</td>\n",
       "      <td>5.566172</td>\n",
       "    </tr>\n",
       "    <tr>\n",
       "      <th>5</th>\n",
       "      <td>174053</td>\n",
       "      <td>Black Mirror: White Christmas (2014)</td>\n",
       "      <td>Drama|Horror|Mystery|Sci-Fi|Thriller</td>\n",
       "      <td>5.514405</td>\n",
       "    </tr>\n",
       "    <tr>\n",
       "      <th>6</th>\n",
       "      <td>306</td>\n",
       "      <td>Three Colors: Red (Trois couleurs: Rouge) (1994)</td>\n",
       "      <td>Drama</td>\n",
       "      <td>5.507206</td>\n",
       "    </tr>\n",
       "    <tr>\n",
       "      <th>7</th>\n",
       "      <td>6818</td>\n",
       "      <td>Come and See (Idi i smotri) (1985)</td>\n",
       "      <td>Drama|War</td>\n",
       "      <td>5.490086</td>\n",
       "    </tr>\n",
       "    <tr>\n",
       "      <th>8</th>\n",
       "      <td>86320</td>\n",
       "      <td>Melancholia (2011)</td>\n",
       "      <td>Drama|Sci-Fi</td>\n",
       "      <td>5.453837</td>\n",
       "    </tr>\n",
       "    <tr>\n",
       "      <th>9</th>\n",
       "      <td>5607</td>\n",
       "      <td>Son of the Bride (Hijo de la novia, El) (2001)</td>\n",
       "      <td>Comedy|Drama</td>\n",
       "      <td>5.402125</td>\n",
       "    </tr>\n",
       "    <tr>\n",
       "      <th>10</th>\n",
       "      <td>8235</td>\n",
       "      <td>Safety Last! (1923)</td>\n",
       "      <td>Action|Comedy|Romance</td>\n",
       "      <td>5.385110</td>\n",
       "    </tr>\n",
       "  </tbody>\n",
       "</table>\n",
       "</div>"
      ]
     },
     "metadata": {
      "application/vnd.databricks.v1+output": {
       "addedWidgets": {},
       "arguments": {},
       "data": "<div>\n<style scoped>\n    .dataframe tbody tr th:only-of-type {\n        vertical-align: middle;\n    }\n\n    .dataframe tbody tr th {\n        vertical-align: top;\n    }\n\n    .dataframe thead th {\n        text-align: right;\n    }\n</style>\n<table border=\"1\" class=\"dataframe\">\n  <thead>\n    <tr style=\"text-align: right;\">\n      <th></th>\n      <th>movieId</th>\n      <th>title</th>\n      <th>genres</th>\n      <th>rating</th>\n    </tr>\n  </thead>\n  <tbody>\n    <tr>\n      <th>1</th>\n      <td>177593</td>\n      <td>Three Billboards Outside Ebbing, Missouri (2017)</td>\n      <td>Crime|Drama</td>\n      <td>5.604426</td>\n    </tr>\n    <tr>\n      <th>2</th>\n      <td>6201</td>\n      <td>Lady Jane (1986)</td>\n      <td>Drama|Romance</td>\n      <td>5.566172</td>\n    </tr>\n    <tr>\n      <th>3</th>\n      <td>4495</td>\n      <td>Crossing Delancey (1988)</td>\n      <td>Comedy|Romance</td>\n      <td>5.566172</td>\n    </tr>\n    <tr>\n      <th>4</th>\n      <td>2295</td>\n      <td>Impostors, The (1998)</td>\n      <td>Comedy</td>\n      <td>5.566172</td>\n    </tr>\n    <tr>\n      <th>5</th>\n      <td>174053</td>\n      <td>Black Mirror: White Christmas (2014)</td>\n      <td>Drama|Horror|Mystery|Sci-Fi|Thriller</td>\n      <td>5.514405</td>\n    </tr>\n    <tr>\n      <th>6</th>\n      <td>306</td>\n      <td>Three Colors: Red (Trois couleurs: Rouge) (1994)</td>\n      <td>Drama</td>\n      <td>5.507206</td>\n    </tr>\n    <tr>\n      <th>7</th>\n      <td>6818</td>\n      <td>Come and See (Idi i smotri) (1985)</td>\n      <td>Drama|War</td>\n      <td>5.490086</td>\n    </tr>\n    <tr>\n      <th>8</th>\n      <td>86320</td>\n      <td>Melancholia (2011)</td>\n      <td>Drama|Sci-Fi</td>\n      <td>5.453837</td>\n    </tr>\n    <tr>\n      <th>9</th>\n      <td>5607</td>\n      <td>Son of the Bride (Hijo de la novia, El) (2001)</td>\n      <td>Comedy|Drama</td>\n      <td>5.402125</td>\n    </tr>\n    <tr>\n      <th>10</th>\n      <td>8235</td>\n      <td>Safety Last! (1923)</td>\n      <td>Action|Comedy|Romance</td>\n      <td>5.385110</td>\n    </tr>\n  </tbody>\n</table>\n</div>",
       "datasetInfos": [],
       "metadata": {},
       "removedWidgets": [],
       "textData": null,
       "type": "htmlSandbox"
      }
     },
     "output_type": "display_data"
    }
   ],
   "source": [
    "# top 10 for user 575\n",
    "topKRecommend(10, 575, bestModel)"
   ]
  },
  {
   "cell_type": "code",
   "execution_count": 0,
   "metadata": {
    "application/vnd.databricks.v1+cell": {
     "cellMetadata": {
      "byteLimit": 2048000,
      "rowLimit": 10000
     },
     "inputWidgets": {},
     "nuid": "94f66040-f4df-4ec7-88f2-e9053de23ffa",
     "showTitle": false,
     "title": ""
    }
   },
   "outputs": [
    {
     "output_type": "display_data",
     "data": {
      "text/html": [
       "<div>\n",
       "<style scoped>\n",
       "    .dataframe tbody tr th:only-of-type {\n",
       "        vertical-align: middle;\n",
       "    }\n",
       "\n",
       "    .dataframe tbody tr th {\n",
       "        vertical-align: top;\n",
       "    }\n",
       "\n",
       "    .dataframe thead th {\n",
       "        text-align: right;\n",
       "    }\n",
       "</style>\n",
       "<table border=\"1\" class=\"dataframe\">\n",
       "  <thead>\n",
       "    <tr style=\"text-align: right;\">\n",
       "      <th></th>\n",
       "      <th>movieId</th>\n",
       "      <th>title</th>\n",
       "      <th>genres</th>\n",
       "      <th>rating</th>\n",
       "    </tr>\n",
       "  </thead>\n",
       "  <tbody>\n",
       "    <tr>\n",
       "      <th>1</th>\n",
       "      <td>67618</td>\n",
       "      <td>Strictly Sexual (2008)</td>\n",
       "      <td>Comedy|Drama|Romance</td>\n",
       "      <td>4.703335</td>\n",
       "    </tr>\n",
       "    <tr>\n",
       "      <th>2</th>\n",
       "      <td>33649</td>\n",
       "      <td>Saving Face (2004)</td>\n",
       "      <td>Comedy|Drama|Romance</td>\n",
       "      <td>4.664639</td>\n",
       "    </tr>\n",
       "    <tr>\n",
       "      <th>3</th>\n",
       "      <td>184245</td>\n",
       "      <td>De platte jungle (1978)</td>\n",
       "      <td>Documentary</td>\n",
       "      <td>4.621128</td>\n",
       "    </tr>\n",
       "    <tr>\n",
       "      <th>4</th>\n",
       "      <td>179135</td>\n",
       "      <td>Blue Planet II (2017)</td>\n",
       "      <td>Documentary</td>\n",
       "      <td>4.621128</td>\n",
       "    </tr>\n",
       "    <tr>\n",
       "      <th>5</th>\n",
       "      <td>138966</td>\n",
       "      <td>Nasu: Summer in Andalusia (2003)</td>\n",
       "      <td>Animation</td>\n",
       "      <td>4.621128</td>\n",
       "    </tr>\n",
       "    <tr>\n",
       "      <th>6</th>\n",
       "      <td>134796</td>\n",
       "      <td>Bitter Lake (2015)</td>\n",
       "      <td>Documentary</td>\n",
       "      <td>4.621128</td>\n",
       "    </tr>\n",
       "    <tr>\n",
       "      <th>7</th>\n",
       "      <td>117531</td>\n",
       "      <td>Watermark (2014)</td>\n",
       "      <td>Documentary</td>\n",
       "      <td>4.621128</td>\n",
       "    </tr>\n",
       "    <tr>\n",
       "      <th>8</th>\n",
       "      <td>84273</td>\n",
       "      <td>Zeitgeist: Moving Forward (2011)</td>\n",
       "      <td>Documentary</td>\n",
       "      <td>4.621128</td>\n",
       "    </tr>\n",
       "    <tr>\n",
       "      <th>9</th>\n",
       "      <td>74226</td>\n",
       "      <td>Dream of Light (a.k.a. Quince Tree Sun, The) (...</td>\n",
       "      <td>Documentary|Drama</td>\n",
       "      <td>4.621128</td>\n",
       "    </tr>\n",
       "    <tr>\n",
       "      <th>10</th>\n",
       "      <td>26928</td>\n",
       "      <td>Summer's Tale, A (Conte d'été) (1996)</td>\n",
       "      <td>Comedy|Drama|Romance</td>\n",
       "      <td>4.621128</td>\n",
       "    </tr>\n",
       "    <tr>\n",
       "      <th>11</th>\n",
       "      <td>26073</td>\n",
       "      <td>Human Condition III, The (Ningen no joken III)...</td>\n",
       "      <td>Drama|War</td>\n",
       "      <td>4.621128</td>\n",
       "    </tr>\n",
       "    <tr>\n",
       "      <th>12</th>\n",
       "      <td>7071</td>\n",
       "      <td>Woman Under the Influence, A (1974)</td>\n",
       "      <td>Drama</td>\n",
       "      <td>4.621128</td>\n",
       "    </tr>\n",
       "    <tr>\n",
       "      <th>13</th>\n",
       "      <td>32892</td>\n",
       "      <td>Ivan's Childhood (a.k.a. My Name is Ivan) (Iva...</td>\n",
       "      <td>Drama|War</td>\n",
       "      <td>4.616565</td>\n",
       "    </tr>\n",
       "    <tr>\n",
       "      <th>14</th>\n",
       "      <td>68945</td>\n",
       "      <td>Neon Genesis Evangelion: Death &amp; Rebirth (Shin...</td>\n",
       "      <td>Action|Animation|Mystery|Sci-Fi</td>\n",
       "      <td>4.605837</td>\n",
       "    </tr>\n",
       "    <tr>\n",
       "      <th>15</th>\n",
       "      <td>3379</td>\n",
       "      <td>On the Beach (1959)</td>\n",
       "      <td>Drama</td>\n",
       "      <td>4.605837</td>\n",
       "    </tr>\n",
       "  </tbody>\n",
       "</table>\n",
       "</div>"
      ]
     },
     "metadata": {
      "application/vnd.databricks.v1+output": {
       "addedWidgets": {},
       "arguments": {},
       "data": "<div>\n<style scoped>\n    .dataframe tbody tr th:only-of-type {\n        vertical-align: middle;\n    }\n\n    .dataframe tbody tr th {\n        vertical-align: top;\n    }\n\n    .dataframe thead th {\n        text-align: right;\n    }\n</style>\n<table border=\"1\" class=\"dataframe\">\n  <thead>\n    <tr style=\"text-align: right;\">\n      <th></th>\n      <th>movieId</th>\n      <th>title</th>\n      <th>genres</th>\n      <th>rating</th>\n    </tr>\n  </thead>\n  <tbody>\n    <tr>\n      <th>1</th>\n      <td>67618</td>\n      <td>Strictly Sexual (2008)</td>\n      <td>Comedy|Drama|Romance</td>\n      <td>4.703335</td>\n    </tr>\n    <tr>\n      <th>2</th>\n      <td>33649</td>\n      <td>Saving Face (2004)</td>\n      <td>Comedy|Drama|Romance</td>\n      <td>4.664639</td>\n    </tr>\n    <tr>\n      <th>3</th>\n      <td>184245</td>\n      <td>De platte jungle (1978)</td>\n      <td>Documentary</td>\n      <td>4.621128</td>\n    </tr>\n    <tr>\n      <th>4</th>\n      <td>179135</td>\n      <td>Blue Planet II (2017)</td>\n      <td>Documentary</td>\n      <td>4.621128</td>\n    </tr>\n    <tr>\n      <th>5</th>\n      <td>138966</td>\n      <td>Nasu: Summer in Andalusia (2003)</td>\n      <td>Animation</td>\n      <td>4.621128</td>\n    </tr>\n    <tr>\n      <th>6</th>\n      <td>134796</td>\n      <td>Bitter Lake (2015)</td>\n      <td>Documentary</td>\n      <td>4.621128</td>\n    </tr>\n    <tr>\n      <th>7</th>\n      <td>117531</td>\n      <td>Watermark (2014)</td>\n      <td>Documentary</td>\n      <td>4.621128</td>\n    </tr>\n    <tr>\n      <th>8</th>\n      <td>84273</td>\n      <td>Zeitgeist: Moving Forward (2011)</td>\n      <td>Documentary</td>\n      <td>4.621128</td>\n    </tr>\n    <tr>\n      <th>9</th>\n      <td>74226</td>\n      <td>Dream of Light (a.k.a. Quince Tree Sun, The) (...</td>\n      <td>Documentary|Drama</td>\n      <td>4.621128</td>\n    </tr>\n    <tr>\n      <th>10</th>\n      <td>26928</td>\n      <td>Summer's Tale, A (Conte d'été) (1996)</td>\n      <td>Comedy|Drama|Romance</td>\n      <td>4.621128</td>\n    </tr>\n    <tr>\n      <th>11</th>\n      <td>26073</td>\n      <td>Human Condition III, The (Ningen no joken III)...</td>\n      <td>Drama|War</td>\n      <td>4.621128</td>\n    </tr>\n    <tr>\n      <th>12</th>\n      <td>7071</td>\n      <td>Woman Under the Influence, A (1974)</td>\n      <td>Drama</td>\n      <td>4.621128</td>\n    </tr>\n    <tr>\n      <th>13</th>\n      <td>32892</td>\n      <td>Ivan's Childhood (a.k.a. My Name is Ivan) (Iva...</td>\n      <td>Drama|War</td>\n      <td>4.616565</td>\n    </tr>\n    <tr>\n      <th>14</th>\n      <td>68945</td>\n      <td>Neon Genesis Evangelion: Death &amp; Rebirth (Shin...</td>\n      <td>Action|Animation|Mystery|Sci-Fi</td>\n      <td>4.605837</td>\n    </tr>\n    <tr>\n      <th>15</th>\n      <td>3379</td>\n      <td>On the Beach (1959)</td>\n      <td>Drama</td>\n      <td>4.605837</td>\n    </tr>\n  </tbody>\n</table>\n</div>",
       "datasetInfos": [],
       "metadata": {},
       "removedWidgets": [],
       "textData": null,
       "type": "htmlSandbox"
      }
     },
     "output_type": "display_data"
    }
   ],
   "source": [
    "# top 15 for user 232\n",
    "topKRecommend(15, 232, bestModel)"
   ]
  },
  {
   "cell_type": "markdown",
   "metadata": {
    "application/vnd.databricks.v1+cell": {
     "cellMetadata": {},
     "inputWidgets": {},
     "nuid": "7e323076-a61f-4878-bdb9-3c3aa415c9d8",
     "showTitle": false,
     "title": ""
    }
   },
   "source": [
    "### (b) Add new user and retrain the model\n",
    "* A new user inputs his/her ratings for movies, then system create new user-movie interaction samples for the model\n",
    "* System retrains ALS model on data with the new inputs"
   ]
  },
  {
   "cell_type": "code",
   "execution_count": 0,
   "metadata": {
    "application/vnd.databricks.v1+cell": {
     "cellMetadata": {
      "byteLimit": 2048000,
      "rowLimit": 10000
     },
     "inputWidgets": {},
     "nuid": "3b346cad-e435-4e43-8868-54231df50f17",
     "showTitle": false,
     "title": ""
    }
   },
   "outputs": [
    {
     "output_type": "stream",
     "name": "stdout",
     "output_type": "stream",
     "text": [
      "+------+-------+------+\n|userId|movieId|rating|\n+------+-------+------+\n|     1|      1|   4.0|\n|     1|      3|   4.0|\n|     1|      6|   4.0|\n|     1|     47|   5.0|\n|     1|     50|   5.0|\n|     1|     70|   3.0|\n|     1|    101|   5.0|\n|     1|    110|   4.0|\n|     1|    151|   5.0|\n|     1|    157|   5.0|\n|     1|    163|   5.0|\n|     1|    216|   5.0|\n|     1|    223|   3.0|\n|     1|    231|   5.0|\n|     1|    235|   4.0|\n|     1|    260|   5.0|\n|     1|    296|   3.0|\n|     1|    316|   3.0|\n|     1|    333|   5.0|\n|     1|    349|   4.0|\n+------+-------+------+\nonly showing top 20 rows\n\n"
     ]
    }
   ],
   "source": [
    "new_user_ID = 0\n",
    "\n",
    "# The format of each line is (userID, movieID, rating)\n",
    "new_user_ratings = [\n",
    "     (0,260,4), # Star Wars (1977)\n",
    "     (0,1,3), # Toy Story (1995)\n",
    "     (0,16,3), # Casino (1995)\n",
    "     (0,25,4), # Leaving Las Vegas (1995)\n",
    "     (0,32,4), # Twelve Monkeys (a.k.a. 12 Monkeys) (1995)\n",
    "     (0,335,1), # Flintstones, The (1994)\n",
    "     (0,379,1), # Timecop (1994)\n",
    "     (0,296,3), # Pulp Fiction (1994)\n",
    "     (0,858,5) , # Godfather, The (1972)\n",
    "     (0,50,4) # Usual Suspects, The (1995)\n",
    "    ]\n",
    "new_data_df = spark.createDataFrame(new_user_ratings, [\"userId\", \"movieId\", \"rating\"])\n",
    "# Append the new data to the existing DataFrame\n",
    "movie_ratings_new = movie_ratings.union(new_data_df)\n",
    "movie_ratings_new.show()"
   ]
  },
  {
   "cell_type": "code",
   "execution_count": 0,
   "metadata": {
    "application/vnd.databricks.v1+cell": {
     "cellMetadata": {
      "byteLimit": 2048000,
      "rowLimit": 10000
     },
     "inputWidgets": {},
     "nuid": "83cf00e3-d3ac-48b5-bf69-4005197e0749",
     "showTitle": false,
     "title": ""
    }
   },
   "outputs": [
    {
     "output_type": "stream",
     "name": "stdout",
     "output_type": "stream",
     "text": [
      "New model trained in 26.552 seconds\n"
     ]
    }
   ],
   "source": [
    "from time import time\n",
    "\n",
    "t0 = time()\n",
    "# retrain our model\n",
    "als = ALS(maxIter=10, rank=5, regParam=0.1, userCol=\"userId\",itemCol=\"movieId\", ratingCol=\"rating\", coldStartStrategy=\"drop\", seed=6)   \n",
    "new_ratings_model = als.fit(movie_ratings_new)            \n",
    "t1 = time() - t0\n",
    "print(\"New model trained in %s seconds\" % round(t1, 3))"
   ]
  },
  {
   "cell_type": "code",
   "execution_count": 0,
   "metadata": {
    "application/vnd.databricks.v1+cell": {
     "cellMetadata": {
      "byteLimit": 2048000,
      "rowLimit": 10000
     },
     "inputWidgets": {},
     "nuid": "61be23a0-cc3e-4731-a490-849af20aa5b0",
     "showTitle": false,
     "title": ""
    }
   },
   "outputs": [
    {
     "output_type": "display_data",
     "data": {
      "text/html": [
       "<div>\n",
       "<style scoped>\n",
       "    .dataframe tbody tr th:only-of-type {\n",
       "        vertical-align: middle;\n",
       "    }\n",
       "\n",
       "    .dataframe tbody tr th {\n",
       "        vertical-align: top;\n",
       "    }\n",
       "\n",
       "    .dataframe thead th {\n",
       "        text-align: right;\n",
       "    }\n",
       "</style>\n",
       "<table border=\"1\" class=\"dataframe\">\n",
       "  <thead>\n",
       "    <tr style=\"text-align: right;\">\n",
       "      <th></th>\n",
       "      <th>movieId</th>\n",
       "      <th>title</th>\n",
       "      <th>release_date</th>\n",
       "      <th>genre</th>\n",
       "      <th>rating</th>\n",
       "    </tr>\n",
       "  </thead>\n",
       "  <tbody>\n",
       "    <tr>\n",
       "      <th>1</th>\n",
       "      <td>89118</td>\n",
       "      <td>Skin I Live In, The (La piel que habito)</td>\n",
       "      <td>2011</td>\n",
       "      <td>[Drama]</td>\n",
       "      <td>5.516636</td>\n",
       "    </tr>\n",
       "    <tr>\n",
       "      <th>2</th>\n",
       "      <td>89904</td>\n",
       "      <td>The Artist</td>\n",
       "      <td>2011</td>\n",
       "      <td>[Comedy, Drama, Romance]</td>\n",
       "      <td>5.109681</td>\n",
       "    </tr>\n",
       "    <tr>\n",
       "      <th>3</th>\n",
       "      <td>7564</td>\n",
       "      <td>Kwaidan (Kaidan)</td>\n",
       "      <td>1964</td>\n",
       "      <td>[Horror]</td>\n",
       "      <td>4.972545</td>\n",
       "    </tr>\n",
       "    <tr>\n",
       "      <th>4</th>\n",
       "      <td>213</td>\n",
       "      <td>Burnt by the Sun (Utomlyonnye solntsem)</td>\n",
       "      <td>1994</td>\n",
       "      <td>[Drama]</td>\n",
       "      <td>4.950351</td>\n",
       "    </tr>\n",
       "    <tr>\n",
       "      <th>5</th>\n",
       "      <td>95182</td>\n",
       "      <td>Dragon Ball Z the Movie: The Tree of Might (Do...</td>\n",
       "      <td>1990</td>\n",
       "      <td>[Action, Adventure, Animation, Sci-Fi]</td>\n",
       "      <td>4.873467</td>\n",
       "    </tr>\n",
       "    <tr>\n",
       "      <th>6</th>\n",
       "      <td>32582</td>\n",
       "      <td>Wild Parrots of Telegraph Hill, The</td>\n",
       "      <td>2003</td>\n",
       "      <td>[Documentary]</td>\n",
       "      <td>4.861015</td>\n",
       "    </tr>\n",
       "    <tr>\n",
       "      <th>7</th>\n",
       "      <td>89759</td>\n",
       "      <td>Separation, A (Jodaeiye Nader az Simin)</td>\n",
       "      <td>2011</td>\n",
       "      <td>[Drama]</td>\n",
       "      <td>4.836390</td>\n",
       "    </tr>\n",
       "    <tr>\n",
       "      <th>8</th>\n",
       "      <td>1354</td>\n",
       "      <td>Breaking the Waves</td>\n",
       "      <td>1996</td>\n",
       "      <td>[Drama, Mystery]</td>\n",
       "      <td>4.796640</td>\n",
       "    </tr>\n",
       "    <tr>\n",
       "      <th>9</th>\n",
       "      <td>6650</td>\n",
       "      <td>Kind Hearts and Coronets</td>\n",
       "      <td>1949</td>\n",
       "      <td>[Comedy, Drama]</td>\n",
       "      <td>4.751843</td>\n",
       "    </tr>\n",
       "    <tr>\n",
       "      <th>10</th>\n",
       "      <td>3473</td>\n",
       "      <td>Jonah Who Will Be 25 in the Year 2000 (Jonas q...</td>\n",
       "      <td>1976</td>\n",
       "      <td>[Comedy]</td>\n",
       "      <td>4.616299</td>\n",
       "    </tr>\n",
       "    <tr>\n",
       "      <th>11</th>\n",
       "      <td>7096</td>\n",
       "      <td>Rivers and Tides</td>\n",
       "      <td>2001</td>\n",
       "      <td>[Documentary]</td>\n",
       "      <td>4.591978</td>\n",
       "    </tr>\n",
       "    <tr>\n",
       "      <th>12</th>\n",
       "      <td>7815</td>\n",
       "      <td>True Stories</td>\n",
       "      <td>1986</td>\n",
       "      <td>[Comedy, Musical]</td>\n",
       "      <td>4.579022</td>\n",
       "    </tr>\n",
       "    <tr>\n",
       "      <th>13</th>\n",
       "      <td>1934</td>\n",
       "      <td>You Can't Take It with You</td>\n",
       "      <td>1938</td>\n",
       "      <td>[Comedy, Romance]</td>\n",
       "      <td>4.566975</td>\n",
       "    </tr>\n",
       "    <tr>\n",
       "      <th>14</th>\n",
       "      <td>3134</td>\n",
       "      <td>Grand Illusion (La grande illusion)</td>\n",
       "      <td>1937</td>\n",
       "      <td>[Drama, War]</td>\n",
       "      <td>4.566319</td>\n",
       "    </tr>\n",
       "    <tr>\n",
       "      <th>15</th>\n",
       "      <td>5147</td>\n",
       "      <td>Wild Strawberries (Smultronstället)</td>\n",
       "      <td>1957</td>\n",
       "      <td>[Drama]</td>\n",
       "      <td>4.562008</td>\n",
       "    </tr>\n",
       "  </tbody>\n",
       "</table>\n",
       "</div>"
      ]
     },
     "metadata": {
      "application/vnd.databricks.v1+output": {
       "addedWidgets": {},
       "arguments": {},
       "data": "<div>\n<style scoped>\n    .dataframe tbody tr th:only-of-type {\n        vertical-align: middle;\n    }\n\n    .dataframe tbody tr th {\n        vertical-align: top;\n    }\n\n    .dataframe thead th {\n        text-align: right;\n    }\n</style>\n<table border=\"1\" class=\"dataframe\">\n  <thead>\n    <tr style=\"text-align: right;\">\n      <th></th>\n      <th>movieId</th>\n      <th>title</th>\n      <th>release_date</th>\n      <th>genre</th>\n      <th>rating</th>\n    </tr>\n  </thead>\n  <tbody>\n    <tr>\n      <th>1</th>\n      <td>89118</td>\n      <td>Skin I Live In, The (La piel que habito)</td>\n      <td>2011</td>\n      <td>[Drama]</td>\n      <td>5.516636</td>\n    </tr>\n    <tr>\n      <th>2</th>\n      <td>89904</td>\n      <td>The Artist</td>\n      <td>2011</td>\n      <td>[Comedy, Drama, Romance]</td>\n      <td>5.109681</td>\n    </tr>\n    <tr>\n      <th>3</th>\n      <td>7564</td>\n      <td>Kwaidan (Kaidan)</td>\n      <td>1964</td>\n      <td>[Horror]</td>\n      <td>4.972545</td>\n    </tr>\n    <tr>\n      <th>4</th>\n      <td>213</td>\n      <td>Burnt by the Sun (Utomlyonnye solntsem)</td>\n      <td>1994</td>\n      <td>[Drama]</td>\n      <td>4.950351</td>\n    </tr>\n    <tr>\n      <th>5</th>\n      <td>95182</td>\n      <td>Dragon Ball Z the Movie: The Tree of Might (Do...</td>\n      <td>1990</td>\n      <td>[Action, Adventure, Animation, Sci-Fi]</td>\n      <td>4.873467</td>\n    </tr>\n    <tr>\n      <th>6</th>\n      <td>32582</td>\n      <td>Wild Parrots of Telegraph Hill, The</td>\n      <td>2003</td>\n      <td>[Documentary]</td>\n      <td>4.861015</td>\n    </tr>\n    <tr>\n      <th>7</th>\n      <td>89759</td>\n      <td>Separation, A (Jodaeiye Nader az Simin)</td>\n      <td>2011</td>\n      <td>[Drama]</td>\n      <td>4.836390</td>\n    </tr>\n    <tr>\n      <th>8</th>\n      <td>1354</td>\n      <td>Breaking the Waves</td>\n      <td>1996</td>\n      <td>[Drama, Mystery]</td>\n      <td>4.796640</td>\n    </tr>\n    <tr>\n      <th>9</th>\n      <td>6650</td>\n      <td>Kind Hearts and Coronets</td>\n      <td>1949</td>\n      <td>[Comedy, Drama]</td>\n      <td>4.751843</td>\n    </tr>\n    <tr>\n      <th>10</th>\n      <td>3473</td>\n      <td>Jonah Who Will Be 25 in the Year 2000 (Jonas q...</td>\n      <td>1976</td>\n      <td>[Comedy]</td>\n      <td>4.616299</td>\n    </tr>\n    <tr>\n      <th>11</th>\n      <td>7096</td>\n      <td>Rivers and Tides</td>\n      <td>2001</td>\n      <td>[Documentary]</td>\n      <td>4.591978</td>\n    </tr>\n    <tr>\n      <th>12</th>\n      <td>7815</td>\n      <td>True Stories</td>\n      <td>1986</td>\n      <td>[Comedy, Musical]</td>\n      <td>4.579022</td>\n    </tr>\n    <tr>\n      <th>13</th>\n      <td>1934</td>\n      <td>You Can't Take It with You</td>\n      <td>1938</td>\n      <td>[Comedy, Romance]</td>\n      <td>4.566975</td>\n    </tr>\n    <tr>\n      <th>14</th>\n      <td>3134</td>\n      <td>Grand Illusion (La grande illusion)</td>\n      <td>1937</td>\n      <td>[Drama, War]</td>\n      <td>4.566319</td>\n    </tr>\n    <tr>\n      <th>15</th>\n      <td>5147</td>\n      <td>Wild Strawberries (Smultronstället)</td>\n      <td>1957</td>\n      <td>[Drama]</td>\n      <td>4.562008</td>\n    </tr>\n  </tbody>\n</table>\n</div>",
       "datasetInfos": [],
       "metadata": {},
       "removedWidgets": [],
       "textData": null,
       "type": "htmlSandbox"
      }
     },
     "output_type": "display_data"
    }
   ],
   "source": [
    "topKRecommend(15, 0, new_ratings_model)"
   ]
  },
  {
   "cell_type": "markdown",
   "metadata": {
    "application/vnd.databricks.v1+cell": {
     "cellMetadata": {},
     "inputWidgets": {},
     "nuid": "8e520389-03d1-44ec-bc45-977022fab36b",
     "showTitle": false,
     "title": ""
    }
   },
   "source": [
    "## Part 5: Find similar movies for a given movie with id"
   ]
  },
  {
   "cell_type": "code",
   "execution_count": 0,
   "metadata": {
    "application/vnd.databricks.v1+cell": {
     "cellMetadata": {
      "byteLimit": 2048000,
      "rowLimit": 10000
     },
     "inputWidgets": {},
     "nuid": "18758391-d415-4e4c-bfc1-718ab5453ccf",
     "showTitle": false,
     "title": ""
    }
   },
   "outputs": [
    {
     "output_type": "stream",
     "name": "stdout",
     "output_type": "stream",
     "text": [
      "root\n |-- id: integer (nullable = false)\n |-- features: array (nullable = true)\n |    |-- element: float (containsNull = false)\n\n"
     ]
    }
   ],
   "source": [
    "# access the movie factor matrix\n",
    "movie_factors = bestModel.itemFactors\n",
    "movie_factors.printSchema()"
   ]
  },
  {
   "cell_type": "code",
   "execution_count": 0,
   "metadata": {
    "application/vnd.databricks.v1+cell": {
     "cellMetadata": {
      "byteLimit": 2048000,
      "rowLimit": 10000
     },
     "inputWidgets": {},
     "nuid": "7321f610-b499-4f14-9885-d401453e4b77",
     "showTitle": false,
     "title": ""
    }
   },
   "outputs": [
    {
     "output_type": "stream",
     "name": "stdout",
     "output_type": "stream",
     "text": [
      "+-------+-----------+----------+----------+-------------+------------+\n|movieId|   feature0|  feature1|  feature2|     feature3|    feature4|\n+-------+-----------+----------+----------+-------------+------------+\n|     10|   1.343317| 0.7734137| 1.0608665|   0.10885448|  0.70511234|\n|     20|  0.7326025| 0.8395385|0.46730146|    1.0911925|   0.8184529|\n|     30| 0.12580585| 1.5855001|0.30689836|   0.91923505|  -1.4823456|\n|     40|0.037614185| 1.9699446| 0.9788561| -0.029758964|   0.9889941|\n|     50|  1.3631967| 1.4852402| 1.1889677|    0.5629783|-0.062677674|\n|     60| 0.97644305|0.63365597| 1.4722021|  -0.17354558|0.0015356329|\n|     70|  0.6718901| 1.8407958|  0.691284|-0.0042799283|   0.2960233|\n|     80|  0.8841925| 1.4381894| 1.0903099|    0.7108394|  -0.2774139|\n|    100| 0.61017376| 0.7806604|  1.379836|  -0.37707943| -0.22926947|\n|    110|  1.3855131| 1.3352994| 1.2560179|   -0.1660903| 0.060945604|\n|    140|  1.0032607|0.94613725| 1.2930366|  0.021065092|  0.31220856|\n|    150| 0.76205707| 1.2419511| 1.5940912|  -0.05470923|  0.29650405|\n|    160|  0.6146789|0.47750804|  1.349369|  -0.26966006|   0.9771612|\n|    170|  1.0777779| 0.7624074|  1.278779|   -0.3595479|  0.24790774|\n|    180|  1.5441906| 1.3157758|0.56108296|   0.26612964| -0.25848836|\n|    190|  1.2789991| 1.6494395|0.47740182|   -0.5556355|  -1.3676429|\n|    210| 0.88425106|0.42351776|  1.517639|  -0.06027926|  0.36502492|\n|    220| 0.40407127| 0.8998785| 1.1060768|   -0.2073036|  0.27986133|\n|    230| 0.73946226| 0.8789909| 1.5076637|    0.6088149| 0.009885172|\n|    240| 0.37935558| 1.0517519| 0.3596872|   -0.4415124|  0.47760886|\n+-------+-----------+----------+----------+-------------+------------+\nonly showing top 20 rows\n\n"
     ]
    }
   ],
   "source": [
    "comd = [\"movie_factors.selectExpr('id as movieId',\"] # perform column-wise transformations and selections on a DataFrame using SQL-like expressions\n",
    "for i in range(bestModel.rank):\n",
    "  if i < bestModel.rank-1:\n",
    "    comd.append(\"'features[\"+str(i)+\"] as feature\"+str(i)+\"',\")\n",
    "  else:\n",
    "    comd.append(\"'features[\"+str(i)+\"] as feature\"+str(i)+\"'\")\n",
    "comd.append(')')\n",
    "movie_factors = eval(''.join(comd))\n",
    "movie_factors.createOrReplaceTempView('movie_factors')\n",
    "movie_factors.show()"
   ]
  },
  {
   "cell_type": "markdown",
   "metadata": {
    "application/vnd.databricks.v1+cell": {
     "cellMetadata": {},
     "inputWidgets": {},
     "nuid": "1629a2df-4276-4f49-bbba-70061e91e34b",
     "showTitle": false,
     "title": ""
    }
   },
   "source": [
    "### (a) Euclidean distance"
   ]
  },
  {
   "cell_type": "code",
   "execution_count": 0,
   "metadata": {
    "application/vnd.databricks.v1+cell": {
     "cellMetadata": {
      "byteLimit": 2048000,
      "rowLimit": 10000
     },
     "inputWidgets": {},
     "nuid": "09b1a0ff-b995-4eb8-9367-2357662a6e6c",
     "showTitle": false,
     "title": ""
    }
   },
   "outputs": [],
   "source": [
    "# method 1: Euclidean distance based similarity\n",
    "# the smaller the euclidean distance between the factors, the similar the movies\n",
    "# this similarity considers the abosulute difference in numerical values\n",
    "\n",
    "def euc_similar(k, mid):\n",
    "    '''\n",
    "    k: number of similar movies to find\n",
    "    mid: id of the movie to find similarities\n",
    "    '''\n",
    "    # find out factors for mid\n",
    "    movie_info = spark.sql('select * from movie_factors where movieId =' + str(mid)).toPandas() \n",
    "    if movie_info.shape[0] <= 0:\n",
    "        print('No movie with id '+str(mid)+' is found in the data.')\n",
    "        return None, None\n",
    "    \n",
    "    # compute the distance between all movies and mid\n",
    "    temp = ['select movieId,']\n",
    "    for i in range(bestModel.rank):\n",
    "        val = movie_info.iloc[0, i + 1] # value of ith factor for mid\n",
    "        # construct formulas under parentheses for Euclidean distance \n",
    "        if val > 0:\n",
    "            comd='feature' + str(i) + '-' + str(val)\n",
    "        else:\n",
    "            comd = 'feature' + str(i) + '+' + str(-val)\n",
    "        # construct squared formulas under parentheses for Euclidean distance \n",
    "        if i < bestModel.rank - 1:\n",
    "            temp.append('('+comd+')*('+comd+') as sd' + str(i) + ',')\n",
    "        else:\n",
    "            temp.append('('+comd+')*('+comd+') as sd' + str(i))\n",
    "    temp.append('from movie_factors where movieId != ' + str(mid))\n",
    "    # print(' '.join(temp))\n",
    "    # sum of squared distance\n",
    "    ssd = spark.sql(' '.join(temp))\n",
    "    ssd = ssd.selectExpr('movieId','sd0+sd1+sd2+sd2+sd4 as ssd').orderBy('ssd').limit(k).toPandas()\n",
    "\n",
    "    # construct output\n",
    "    out = None\n",
    "    for i in ssd['movieId']:\n",
    "        if not out:\n",
    "            out = movies_df.where(movies_df.movieId == str(i))\n",
    "        else:\n",
    "            out = out.union(movies_df.where(movies_df.movieId == str(i)))\n",
    "    out = out.toPandas()\n",
    "    out.index = range(1, k + 1)\n",
    "    return out, ssd"
   ]
  },
  {
   "cell_type": "code",
   "execution_count": 0,
   "metadata": {
    "application/vnd.databricks.v1+cell": {
     "cellMetadata": {
      "byteLimit": 2048000,
      "rowLimit": 10000
     },
     "inputWidgets": {},
     "nuid": "b51d2911-a05b-4414-9301-3e00f951b8c1",
     "showTitle": false,
     "title": ""
    }
   },
   "outputs": [
    {
     "output_type": "stream",
     "name": "stdout",
     "output_type": "stream",
     "text": [
      "   movieId                             title                          genres\n1    47629                  The Queen (2006)                           Drama\n2      616            Aristocats, The (1970)              Animation|Children\n3    55052                  Atonement (2007)               Drama|Romance|War\n4    67408        Monsters vs. Aliens (2009)           Animation|Sci-Fi|IMAX\n5     2135            Doctor Dolittle (1967)      Adventure|Children|Musical\n6     3270          Cutting Edge, The (1992)            Comedy|Drama|Romance\n7      222          Circle of Friends (1995)                   Drama|Romance\n8     6983                  Jane Eyre (1944)                   Drama|Romance\n9      314  Secret of Roan Inish, The (1994)  Children|Drama|Fantasy|Mystery\n10    1013           Parent Trap, The (1961)         Children|Comedy|Romance\n"
     ]
    }
   ],
   "source": [
    "# test for movie 471 \n",
    "out, ssd = euc_similar(10, 471)\n",
    "print(out)"
   ]
  },
  {
   "cell_type": "code",
   "execution_count": 0,
   "metadata": {
    "application/vnd.databricks.v1+cell": {
     "cellMetadata": {
      "byteLimit": 2048000,
      "rowLimit": 10000
     },
     "inputWidgets": {},
     "nuid": "894c7a5d-4c40-4640-85fb-4c4cf73a79aa",
     "showTitle": false,
     "title": ""
    }
   },
   "outputs": [
    {
     "output_type": "stream",
     "name": "stdout",
     "output_type": "stream",
     "text": [
      "No movie with id 463 is found in the data.\n"
     ]
    }
   ],
   "source": [
    "out1, ssd1 = euc_similar(10, 463)"
   ]
  },
  {
   "cell_type": "markdown",
   "metadata": {
    "application/vnd.databricks.v1+cell": {
     "cellMetadata": {},
     "inputWidgets": {},
     "nuid": "13b94cbc-30f3-4910-8a8e-1d48ac25589b",
     "showTitle": false,
     "title": ""
    }
   },
   "source": [
    "### (b) Cosine distance"
   ]
  },
  {
   "cell_type": "code",
   "execution_count": 0,
   "metadata": {
    "application/vnd.databricks.v1+cell": {
     "cellMetadata": {
      "byteLimit": 2048000,
      "rowLimit": 10000
     },
     "inputWidgets": {},
     "nuid": "4685960b-9985-4866-8cc5-c70f25bf681f",
     "showTitle": false,
     "title": ""
    }
   },
   "outputs": [],
   "source": [
    "# method 2: cosine similarity\n",
    "# the larger the cosine value, the smaller the two feature vectors' angle, the similar the movies\n",
    "# this similarity considers relative differences in directions(angles)\n",
    "\n",
    "def cos_similar(k,mid):\n",
    "    '''\n",
    "    k: number of similar movies to find\n",
    "    mid: id of the movie to find similarities\n",
    "    '''\n",
    "    # find out factors for mid\n",
    "    movie_info = spark.sql('select * from movie_factors where movieId =' + str(mid)).toPandas() \n",
    "    if movie_info.shape[0] <= 0:\n",
    "        print('No movie with id '+str(mid)+' is found in the data.')\n",
    "        return None, None\n",
    "    \n",
    "    # normalize the vector for mid first\n",
    "    norm_m = sum(movie_info.iloc[0,1:].values ** 2) ** 0.5\n",
    "    temp = ['select movieId,']\n",
    "    norm_str = ['sqrt(']\n",
    "    for i in range(bestModel.rank):\n",
    "        # construct inner product of each feactor \n",
    "        comd = 'feature' + str(i) + '*' + str(movie_info.iloc[0, i + 1])\n",
    "        temp.append(comd+' as inner'+str(i)+',')\n",
    "        if i < bestModel.rank-1:\n",
    "            norm_str.append('feature'+str(i) + '*feature' + str(i) + '+')\n",
    "        else:\n",
    "            norm_str.append('feature' + str(i) + '*feature' + str(i))\n",
    "    norm_str.append(') as norm')\n",
    "    temp.append(''.join(norm_str))\n",
    "    temp.append(' from movie_factors where movieId != ' + str(mid))\n",
    "    # print(' '.join(temp))\n",
    "\n",
    "    # compute cosine distance\n",
    "    inner = spark.sql(' '.join(temp))\n",
    "    inner = inner.selectExpr('movieId',\\\n",
    "                            '(inner0+inner1+inner2+inner3+inner4)/norm/' + str(norm_m) + ' as innerP').\\\n",
    "                            orderBy('innerP', ascending=False).limit(k).toPandas()\n",
    "    # construct output\n",
    "    out = None\n",
    "    for i in inner['movieId']:\n",
    "        if not out:\n",
    "            out = movies_df.where(movies_df.movieId == str(i))\n",
    "        else:\n",
    "            out = out.union(movies_df.where(movies_df.movieId == str(i)))\n",
    "    out = out.toPandas()\n",
    "    out.index = range(1, k + 1)\n",
    "    return out, inner"
   ]
  },
  {
   "cell_type": "code",
   "execution_count": 0,
   "metadata": {
    "application/vnd.databricks.v1+cell": {
     "cellMetadata": {
      "byteLimit": 2048000,
      "rowLimit": 10000
     },
     "inputWidgets": {},
     "nuid": "19870168-7a88-41a4-8a7b-1d694c2a8625",
     "showTitle": false,
     "title": ""
    }
   },
   "outputs": [
    {
     "output_type": "stream",
     "name": "stdout",
     "output_type": "stream",
     "text": [
      "   movieId                                    title                   genres\n1     4587              Earth Girls Are Easy (1988)    Comedy|Musical|Sci-Fi\n2      188                     Prophecy, The (1995)   Fantasy|Horror|Mystery\n3    47629                         The Queen (2006)                    Drama\n4     4285                Frankie and Johnny (1991)           Comedy|Romance\n5      515           Remains of the Day, The (1993)            Drama|Romance\n6     5563                   City by the Sea (2002)              Crime|Drama\n7      616                   Aristocats, The (1970)       Animation|Children\n8     1018                    That Darn Cat! (1965)  Children|Comedy|Mystery\n9    96821  Perks of Being a Wallflower, The (2012)            Drama|Romance\n10   42009            Cheaper by the Dozen 2 (2005)         Adventure|Comedy\n"
     ]
    }
   ],
   "source": [
    "# test for movie 471 \n",
    "out2, ssd2 = cos_similar(10, 471)\n",
    "print(out2)"
   ]
  }
 ],
 "metadata": {
  "application/vnd.databricks.v1+notebook": {
   "dashboards": [],
   "language": "python",
   "notebookMetadata": {
    "pythonIndentUnit": 4
   },
   "notebookName": "Movie recommender_Spark ALS_Movielens small",
   "widgets": {}
  }
 },
 "nbformat": 4,
 "nbformat_minor": 0
}
